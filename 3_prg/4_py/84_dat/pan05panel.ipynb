{
 "cells": [
  {
   "cell_type": "code",
   "execution_count": null,
   "metadata": {},
   "outputs": [],
   "source": []
  },
  {
   "cell_type": "code",
   "execution_count": 2,
   "metadata": {},
   "outputs": [],
   "source": [
    "import pandas as pd\n",
    "import numpy as np"
   ]
  },
  {
   "cell_type": "code",
   "execution_count": 3,
   "metadata": {},
   "outputs": [],
   "source": [
    "stockData = np.array([[[63.03,61.48,75],\n",
    "[62.05,62.75,46],\n",
    "[62.74,62.19,53]],\n",
    "[[411.90, 404.38, 2.9],\n",
    "[405.45, 405.91, 2.6],\n",
    "[403.15, 404.42, 2.4]]])"
   ]
  },
  {
   "cell_type": "code",
   "execution_count": 5,
   "metadata": {},
   "outputs": [],
   "source": [
    "stockHistoricalPrices = pd.Panel(stockData,\n",
    "    items=['FB', 'NFLX'], \n",
    "    major_axis=pd.date_range('2/3/2014', periods=3),\n",
    "    minor_axis=['open price', 'closing price', 'volume'])"
   ]
  },
  {
   "cell_type": "code",
   "execution_count": 6,
   "metadata": {},
   "outputs": [
    {
     "data": {
      "text/plain": [
       "<class 'pandas.core.panel.Panel'>\n",
       "Dimensions: 2 (items) x 3 (major_axis) x 3 (minor_axis)\n",
       "Items axis: FB to NFLX\n",
       "Major_axis axis: 2014-02-03 00:00:00 to 2014-02-05 00:00:00\n",
       "Minor_axis axis: open price to volume"
      ]
     },
     "execution_count": 6,
     "metadata": {},
     "output_type": "execute_result"
    }
   ],
   "source": [
    "stockHistoricalPrices"
   ]
  },
  {
   "cell_type": "code",
   "execution_count": 8,
   "metadata": {},
   "outputs": [],
   "source": [
    "USData = pd.DataFrame(np.array([[249.62 , 8900],[ 282.16,12680],[309.35,14940]]),\n",
    "                      columns=['Population(M)','GDP($B)'],\n",
    "                      index=[1990,2000,2010])\n",
    "ChinaData = pd.DataFrame(np.array([[1133.68, 390.28],[ 1266.83,1198.48],[1339.72, 6988.47]]),\n",
    "                         columns=['Population(M)','GDP($B)'],\n",
    "                         index=[1990,2000,2010])"
   ]
  },
  {
   "cell_type": "code",
   "execution_count": 9,
   "metadata": {},
   "outputs": [],
   "source": [
    "US_ChinaData={'US' : USData, 'China': ChinaData}"
   ]
  },
  {
   "cell_type": "code",
   "execution_count": 10,
   "metadata": {},
   "outputs": [
    {
     "data": {
      "text/plain": [
       "<class 'pandas.core.panel.Panel'>\n",
       "Dimensions: 2 (items) x 3 (major_axis) x 2 (minor_axis)\n",
       "Items axis: US to China\n",
       "Major_axis axis: 1990 to 2010\n",
       "Minor_axis axis: Population(M) to GDP($B)"
      ]
     },
     "execution_count": 10,
     "metadata": {},
     "output_type": "execute_result"
    }
   ],
   "source": [
    "pd.Panel(US_ChinaData)"
   ]
  },
  {
   "cell_type": "code",
   "execution_count": 12,
   "metadata": {},
   "outputs": [
    {
     "name": "stderr",
     "output_type": "stream",
     "text": [
      "G:\\prog\\Anaconda3\\lib\\site-packages\\ipykernel_launcher.py:2: FutureWarning: the 'labels' keyword is deprecated, use 'codes' instead\n",
      "  \n"
     ]
    }
   ],
   "source": [
    "mIdx = pd.MultiIndex(levels = [['US', 'China'], [1990,2000, 2010]], \n",
    "                     labels=[[1,1,1,0,0,0],[0,1,2,0,1,2]])\n"
   ]
  },
  {
   "cell_type": "code",
   "execution_count": 14,
   "metadata": {},
   "outputs": [],
   "source": [
    "ChinaUSDF = pd.DataFrame({'Population(M)' : [1133.68, 1266.83, 1339.72, 249.62, 282.16, 309.35], 'GDB($B)': [390.28, 1198.48, 6988.47, 8900, 12680,14940]}, index=mIdx)\n"
   ]
  },
  {
   "cell_type": "code",
   "execution_count": 15,
   "metadata": {},
   "outputs": [
    {
     "name": "stderr",
     "output_type": "stream",
     "text": [
      "G:\\prog\\Anaconda3\\lib\\site-packages\\ipykernel_launcher.py:1: FutureWarning: \n",
      "Panel is deprecated and will be removed in a future version.\n",
      "The recommended way to represent these types of 3-dimensional data are with a MultiIndex on a DataFrame, via the Panel.to_frame() method\n",
      "Alternatively, you can use the xarray package http://xarray.pydata.org/en/stable/.\n",
      "Pandas provides a `.to_xarray()` method to help automate this conversion.\n",
      "\n",
      "  \"\"\"Entry point for launching an IPython kernel.\n"
     ]
    },
    {
     "data": {
      "text/plain": [
       "<class 'pandas.core.panel.Panel'>\n",
       "Dimensions: 2 (items) x 2 (major_axis) x 3 (minor_axis)\n",
       "Items axis: Population(M) to GDB($B)\n",
       "Major_axis axis: China to US\n",
       "Minor_axis axis: 1990 to 2010"
      ]
     },
     "execution_count": 15,
     "metadata": {},
     "output_type": "execute_result"
    }
   ],
   "source": [
    "ChinaUSDF.to_panel()"
   ]
  },
  {
   "cell_type": "code",
   "execution_count": null,
   "metadata": {},
   "outputs": [],
   "source": []
  }
 ],
 "metadata": {
  "kernelspec": {
   "display_name": "Python 3",
   "language": "python",
   "name": "python3"
  },
  "language_info": {
   "codemirror_mode": {
    "name": "ipython",
    "version": 3
   },
   "file_extension": ".py",
   "mimetype": "text/x-python",
   "name": "python",
   "nbconvert_exporter": "python",
   "pygments_lexer": "ipython3",
   "version": "3.7.3"
  }
 },
 "nbformat": 4,
 "nbformat_minor": 2
}
