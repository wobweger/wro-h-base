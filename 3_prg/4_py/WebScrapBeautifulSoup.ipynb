{
 "cells": [
  {
   "cell_type": "code",
   "execution_count": 1,
   "metadata": {},
   "outputs": [],
   "source": [
    "from bs4 import BeautifulSoup"
   ]
  },
  {
   "cell_type": "code",
   "execution_count": 4,
   "metadata": {},
   "outputs": [],
   "source": [
    "import requests\n",
    "response = requests.get('https://www.debian.org/releases/stable/index.en.html')"
   ]
  },
  {
   "cell_type": "code",
   "execution_count": 6,
   "metadata": {},
   "outputs": [],
   "source": [
    "bs=BeautifulSoup(response.content,'lxml')"
   ]
  },
  {
   "cell_type": "code",
   "execution_count": 7,
   "metadata": {},
   "outputs": [],
   "source": [
    "lTag=bs.find_all('meta')"
   ]
  },
  {
   "cell_type": "code",
   "execution_count": 8,
   "metadata": {},
   "outputs": [
    {
     "name": "stdout",
     "output_type": "stream",
     "text": [
      "[<meta content=\"text/html; charset=utf-8\" http-equiv=\"Content-Type\"/>, <meta content=\"WML 2.0.12 (16-Apr-2008)\" name=\"Generator\"/>, <meta content=\"2019-11-22 19:49:52\" name=\"Modified\"/>, <meta content=\"width=device-width\" name=\"viewport\"/>, <meta content=\"300\" name=\"mobileoptimized\"/>, <meta content=\"true\" name=\"HandheldFriendly\"/>]\n"
     ]
    }
   ],
   "source": [
    "print(lTag)"
   ]
  },
  {
   "cell_type": "code",
   "execution_count": 9,
   "metadata": {},
   "outputs": [],
   "source": [
    "def prn(l):\n",
    "    for it in l:\n",
    "        print(it)\n",
    "        "
   ]
  },
  {
   "cell_type": "code",
   "execution_count": 10,
   "metadata": {},
   "outputs": [
    {
     "name": "stdout",
     "output_type": "stream",
     "text": [
      "<meta content=\"text/html; charset=utf-8\" http-equiv=\"Content-Type\"/>\n",
      "<meta content=\"WML 2.0.12 (16-Apr-2008)\" name=\"Generator\"/>\n",
      "<meta content=\"2019-11-22 19:49:52\" name=\"Modified\"/>\n",
      "<meta content=\"width=device-width\" name=\"viewport\"/>\n",
      "<meta content=\"300\" name=\"mobileoptimized\"/>\n",
      "<meta content=\"true\" name=\"HandheldFriendly\"/>\n"
     ]
    }
   ],
   "source": [
    "prn(lTag)"
   ]
  },
  {
   "cell_type": "code",
   "execution_count": 11,
   "metadata": {},
   "outputs": [],
   "source": [
    "lFrom=bs.find_all('from')"
   ]
  },
  {
   "cell_type": "code",
   "execution_count": 12,
   "metadata": {},
   "outputs": [],
   "source": [
    "prn(lFrom)"
   ]
  },
  {
   "cell_type": "code",
   "execution_count": 13,
   "metadata": {},
   "outputs": [],
   "source": [
    "lLnk=bs.find_all('a')"
   ]
  },
  {
   "cell_type": "code",
   "execution_count": 14,
   "metadata": {},
   "outputs": [
    {
     "name": "stdout",
     "output_type": "stream",
     "text": [
      "<a href=\"../../\" title=\"Debian Home\"><img alt=\"Debian\" height=\"61\" src=\"../../Pics/openlogo-50.png\" width=\"50\"/></a>\n",
      "<a href=\"#content\">Skip Quicknav</a>\n",
      "<a href=\"../../intro/about\">About Debian</a>\n",
      "<a href=\"../../distrib/\">Getting Debian</a>\n",
      "<a href=\"../../doc\">Documentation</a>\n",
      "<a href=\"../../support\">Support</a>\n",
      "<a href=\"../../devel/\">Developers' Corner</a>\n",
      "<a href=\"../\">Debian Releases</a>\n",
      "<a href=\"../../News/2019/20190706\">press release</a>\n",
      "<a href=\"releasenotes\">Release Notes</a>\n",
      "<a href=\"debian-installer/\">installation information</a>\n",
      "<a href=\"installmanual\">Installation Guide</a>\n",
      "<a href=\"releasenotes\">Release Notes</a>\n",
      "<a href=\"../../ports/amd64/\">64-bit PC (amd64)</a>\n",
      "<a href=\"../../ports/arm64/\">64-bit ARM (AArch64)</a>\n",
      "<a href=\"../../ports/armel/\">EABI ARM (armel)</a>\n",
      "<a href=\"../../ports/armhf/\">Hard Float ABI ARM (armhf)</a>\n",
      "<a href=\"../../ports/i386/\">32-bit PC (i386)</a>\n",
      "<a href=\"../../ports/mips/\">MIPS (big endian)</a>\n",
      "<a href=\"../../ports/mipsel/\">MIPS (little endian)</a>\n",
      "<a href=\"../../ports/mips64el/\">64-bit MIPS (little endian)</a>\n",
      "<a href=\"../../ports/ppc64el/\">POWER Processors</a>\n",
      "<a href=\"../../ports/s390x/\">IBM System z</a>\n",
      "<a href=\"errata\">a list of the major known problems</a>\n",
      "<a href=\"reportingbugs\">report other issues</a>\n",
      "<a href=\"credits\">people who take\n",
      "credit</a>\n",
      "<a href=\"../../\">Debian Project homepage</a>\n",
      "<a href=\"index.bg.html\" hreflang=\"bg\" lang=\"bg\" rel=\"alternate\" title=\"Bulgarian\">Български (Bəlgarski)</a>\n",
      "<a href=\"index.cs.html\" hreflang=\"cs\" lang=\"cs\" rel=\"alternate\" title=\"Czech\">česky</a>\n",
      "<a href=\"index.da.html\" hreflang=\"da\" lang=\"da\" rel=\"alternate\" title=\"Danish\">dansk</a>\n",
      "<a href=\"index.de.html\" hreflang=\"de\" lang=\"de\" rel=\"alternate\" title=\"German\">Deutsch</a>\n",
      "<a href=\"index.el.html\" hreflang=\"el\" lang=\"el\" rel=\"alternate\" title=\"Greek\">Ελληνικά (Ellinika)</a>\n",
      "<a href=\"index.es.html\" hreflang=\"es\" lang=\"es\" rel=\"alternate\" title=\"Spanish\">español</a>\n",
      "<a href=\"index.fr.html\" hreflang=\"fr\" lang=\"fr\" rel=\"alternate\" title=\"French\">français</a>\n",
      "<a href=\"index.it.html\" hreflang=\"it\" lang=\"it\" rel=\"alternate\" title=\"Italian\">Italiano</a>\n",
      "<a href=\"index.ko.html\" hreflang=\"ko\" lang=\"ko\" rel=\"alternate\" title=\"Korean\">한국어 (Korean)</a>\n",
      "<a href=\"index.nl.html\" hreflang=\"nl\" lang=\"nl\" rel=\"alternate\" title=\"Dutch\">Nederlands</a>\n",
      "<a href=\"index.nb.html\" hreflang=\"nb\" lang=\"nb\" rel=\"alternate\" title=\"Norwegian\">norsk (bokmål)</a>\n",
      "<a href=\"index.ru.html\" hreflang=\"ru\" lang=\"ru\" rel=\"alternate\" title=\"Russian\">Русский (Russkij)</a>\n",
      "<a href=\"index.sk.html\" hreflang=\"sk\" lang=\"sk\" rel=\"alternate\" title=\"Slovak\">slovenčina</a>\n",
      "<a href=\"index.sv.html\" hreflang=\"sv\" lang=\"sv\" rel=\"alternate\" title=\"Swedish\">svenska</a>\n",
      "<a href=\"index.zh-cn.html\" hreflang=\"zh-CN\" lang=\"zh-CN\" rel=\"alternate\" title=\"Chinese (China)\">中文(简)</a>\n",
      "<a href=\"index.zh-hk.html\" hreflang=\"zh-HK\" lang=\"zh-HK\" rel=\"alternate\" title=\"Chinese (Hong Kong)\">中文(HK)</a>\n",
      "<a href=\"index.zh-tw.html\" hreflang=\"zh-TW\" lang=\"zh-TW\" rel=\"alternate\" title=\"Chinese (Taiwan)\">中文(繁)</a>\n",
      "<a href=\"../../intro/cn\">the default document language</a>\n",
      "<a href=\"/\">Home</a>\n",
      "<a href=\"../../intro/about\">About</a>\n",
      "<a href=\"../../social_contract\">Social Contract</a>\n",
      "<a href=\"../../code_of_conduct\">Code of Conduct</a>\n",
      "<a href=\"../../intro/free\">Free Software</a>\n",
      "<a href=\"../../partners/\">Partners</a>\n",
      "<a href=\"../../donations\">Donations</a>\n",
      "<a href=\"../../legal\">Legal Info</a>\n",
      "<a href=\"../../legal/privacy\">Data Privacy</a>\n",
      "<a href=\"../../contact\">Contact Us</a>\n",
      "<a href=\"../../intro/help\">Help Debian</a>\n",
      "<a href=\"../../distrib/\">Getting Debian</a>\n",
      "<a href=\"../../distrib/netinst\">Network install</a>\n",
      "<a href=\"../../CD/\">CD/USB ISO images</a>\n",
      "<a href=\"../../CD/vendors/\">CD vendors</a>\n",
      "<a href=\"../../distrib/pre-installed\">Pre-installed</a>\n",
      "<a href=\"../../blends/\">Pure Blends</a>\n",
      "<a href=\"../../distrib/packages\">Debian Packages</a>\n",
      "<a href=\"../../devel/\">Developers' Corner</a>\n",
      "<a href=\"../../News/\">News</a>\n",
      "<a href=\"../../News/weekly/\">Project News</a>\n",
      "<a href=\"../../events/\">Events</a>\n",
      "<a href=\"../../doc/\">Documentation</a>\n",
      "<a href=\"../../releases/\">Release Info</a>\n",
      "<a href=\"../../releases/stable/installmanual\">Installation manual</a>\n",
      "<a href=\"../../doc/books\">Debian Books</a>\n",
      "<a href=\"https://wiki.debian.org/\">Debian Wiki</a>\n",
      "<a href=\"../../support\">Support</a>\n",
      "<a href=\"../../international/\">Debian International</a>\n",
      "<a href=\"../../security/\">Security Information</a>\n",
      "<a href=\"../../Bugs/\">Bug reports</a>\n",
      "<a href=\"../../MailingLists/\">Mailing Lists</a>\n",
      "<a href=\"https://lists.debian.org/\">Mailing List Archives</a>\n",
      "<a href=\"../../ports/\">Ports/Architectures</a>\n",
      "<a href=\"../../sitemap\">Site map</a>\n",
      "<a href=\"https://search.debian.org/\">Search</a>\n",
      "<a href=\"https://bits.debian.org\">The Debian Blog</a>\n",
      "<a href=\"https://identi.ca/debian\"><img alt=\"follow debian on identi.ca!\" height=\"15\" src=\"../../Pics/identica.png\" width=\"80\"/></a>\n",
      "<a href=\"https://planet.debian.org\"><img alt=\"follow debian on planet.debian.org!\" height=\"15\" src=\"../../Pics/planet.png\" width=\"80\"/></a>\n",
      "<a href=\"mailto:debian-www@lists.debian.org\">debian-www@lists.debian.org</a>\n",
      "<a href=\"../../contact\">contact page</a>\n",
      "<a href=\"https://salsa.debian.org/webmaster-team/webwml\">available</a>\n",
      "<a href=\"https://www.spi-inc.org/\">SPI</a>\n",
      "<a href=\"../../license\" rel=\"copyright\">license terms</a>\n",
      "<a href=\"../../trademark\">trademark</a>\n"
     ]
    }
   ],
   "source": [
    "prn(lLnk)"
   ]
  },
  {
   "cell_type": "code",
   "execution_count": null,
   "metadata": {},
   "outputs": [],
   "source": []
  }
 ],
 "metadata": {
  "kernelspec": {
   "display_name": "Python 3",
   "language": "python",
   "name": "python3"
  },
  "language_info": {
   "codemirror_mode": {
    "name": "ipython",
    "version": 3
   },
   "file_extension": ".py",
   "mimetype": "text/x-python",
   "name": "python",
   "nbconvert_exporter": "python",
   "pygments_lexer": "ipython3",
   "version": "3.7.3"
  }
 },
 "nbformat": 4,
 "nbformat_minor": 2
}
