{
 "cells": [
  {
   "cell_type": "markdown",
   "metadata": {},
   "source": [
    "# file read\n",
    "simple file read of lines"
   ]
  },
  {
   "cell_type": "code",
   "execution_count": 21,
   "metadata": {},
   "outputs": [],
   "source": [
    "oFile=open(\"01_dat.csv\",\"r\")"
   ]
  },
  {
   "cell_type": "code",
   "execution_count": 22,
   "metadata": {},
   "outputs": [
    {
     "name": "stdout",
     "output_type": "stream",
     "text": [
      "no;name;description;\n",
      "0 ;n00;d00;\n",
      "1 ;n01;d01;\n",
      "2 ;n02;d02;\n",
      "3 ;n03;d03;\n",
      "4 ;n04;d04;\n",
      "5 ;n05;d05;\n",
      "6 ;n06;d06;\n",
      "7 ;n07;d07;\n",
      "8 ;n08;d08;\n",
      "9 ;n09;d09;\n",
      "10;n10;d10;\n",
      "11;n11;d11;\n"
     ]
    }
   ],
   "source": [
    "for sLine in oFile.readlines():\n",
    "    print(sLine,end=\"\")"
   ]
  },
  {
   "cell_type": "markdown",
   "metadata": {},
   "source": [
    "second read lines delivers nothing"
   ]
  },
  {
   "cell_type": "code",
   "execution_count": 23,
   "metadata": {},
   "outputs": [],
   "source": [
    "for sLine in oFile.readlines():\n",
    "    print(sLine)"
   ]
  },
  {
   "cell_type": "code",
   "execution_count": 24,
   "metadata": {},
   "outputs": [],
   "source": [
    "oFile.close()"
   ]
  },
  {
   "cell_type": "markdown",
   "metadata": {},
   "source": [
    "another way to loop over lines"
   ]
  },
  {
   "cell_type": "code",
   "execution_count": 25,
   "metadata": {},
   "outputs": [],
   "source": [
    "oFile=open(\"01_dat.csv\",\"r\")"
   ]
  },
  {
   "cell_type": "code",
   "execution_count": 26,
   "metadata": {},
   "outputs": [
    {
     "name": "stdout",
     "output_type": "stream",
     "text": [
      "no;name;description;\n",
      "0 ;n00;d00;\n",
      "1 ;n01;d01;\n",
      "2 ;n02;d02;\n",
      "3 ;n03;d03;\n",
      "4 ;n04;d04;\n",
      "5 ;n05;d05;\n",
      "6 ;n06;d06;\n",
      "7 ;n07;d07;\n",
      "8 ;n08;d08;\n",
      "9 ;n09;d09;\n",
      "10;n10;d10;\n",
      "11;n11;d11;\n"
     ]
    }
   ],
   "source": [
    "sLine=oFile.readline()\n",
    "while sLine!=\"\":\n",
    "    print(sLine,end=\"\")\n",
    "    sLine=oFile.readline()"
   ]
  },
  {
   "cell_type": "code",
   "execution_count": 27,
   "metadata": {},
   "outputs": [],
   "source": [
    "oFile.close()"
   ]
  },
  {
   "cell_type": "markdown",
   "metadata": {},
   "source": [
    "use iteration for looping"
   ]
  },
  {
   "cell_type": "code",
   "execution_count": 28,
   "metadata": {},
   "outputs": [
    {
     "name": "stdout",
     "output_type": "stream",
     "text": [
      "no;name;description;\n",
      "0 ;n00;d00;\n",
      "1 ;n01;d01;\n",
      "2 ;n02;d02;\n",
      "3 ;n03;d03;\n",
      "4 ;n04;d04;\n",
      "5 ;n05;d05;\n",
      "6 ;n06;d06;\n",
      "7 ;n07;d07;\n",
      "8 ;n08;d08;\n",
      "9 ;n09;d09;\n",
      "10;n10;d10;\n",
      "11;n11;d11;\n"
     ]
    }
   ],
   "source": [
    "with open(\"01_dat.csv\",\"r\") as oFile:\n",
    "    for sLine in oFile.readlines():\n",
    "        print(sLine,end=\"\")"
   ]
  },
  {
   "cell_type": "markdown",
   "metadata": {},
   "source": [
    "## generator\n",
    "a much nicer way to read a file"
   ]
  },
  {
   "cell_type": "code",
   "execution_count": 29,
   "metadata": {},
   "outputs": [],
   "source": [
    "def gtrFile(sFN):\n",
    "    with open(sFN,\"r\") as oFile:\n",
    "        sLine=\"1\"\n",
    "        while sLine!=\"\":\n",
    "            sLine=oFile.readline()\n",
    "            yield sLine"
   ]
  },
  {
   "cell_type": "code",
   "execution_count": 30,
   "metadata": {},
   "outputs": [],
   "source": [
    "oGtr01=gtrFile(\"01_dat.csv\")"
   ]
  },
  {
   "cell_type": "code",
   "execution_count": 31,
   "metadata": {},
   "outputs": [
    {
     "name": "stdout",
     "output_type": "stream",
     "text": [
      "no;name;description;\n",
      "0 ;n00;d00;\n",
      "1 ;n01;d01;\n",
      "2 ;n02;d02;\n",
      "3 ;n03;d03;\n",
      "4 ;n04;d04;\n",
      "5 ;n05;d05;\n",
      "6 ;n06;d06;\n",
      "7 ;n07;d07;\n",
      "8 ;n08;d08;\n",
      "9 ;n09;d09;\n",
      "10;n10;d10;\n",
      "11;n11;d11;\n"
     ]
    }
   ],
   "source": [
    "for sLine in oGtr01:\n",
    "    print(sLine,end=\"\")"
   ]
  },
  {
   "cell_type": "code",
   "execution_count": 71,
   "metadata": {},
   "outputs": [],
   "source": [
    "import gzip\n",
    "from io import StringIO\n",
    "from io import TextIOWrapper"
   ]
  },
  {
   "cell_type": "code",
   "execution_count": null,
   "metadata": {},
   "outputs": [],
   "source": [
    "def gtrFileGz(sFN):\n",
    "    with gzip.open(sFN,\"r\") as oFile:\n",
    "        sLine=\"1\"\n",
    "        while sLine!=b\"\":\n",
    "            sLine=oFile.readline()\n",
    "            yield sLine"
   ]
  },
  {
   "cell_type": "code",
   "execution_count": null,
   "metadata": {},
   "outputs": [],
   "source": [
    "oGtr02=gtrFileGz(\"01_dat.csv.c1.gz\")"
   ]
  },
  {
   "cell_type": "code",
   "execution_count": null,
   "metadata": {
    "scrolled": true
   },
   "outputs": [],
   "source": [
    "for sLine in oGtr02:\n",
    "    print(sLine,end=\"\")"
   ]
  },
  {
   "cell_type": "markdown",
   "metadata": {},
   "source": [
    "use gzip files on the fly"
   ]
  },
  {
   "cell_type": "code",
   "execution_count": 81,
   "metadata": {},
   "outputs": [],
   "source": [
    "def gtrFileGz(sFN):\n",
    "    with gzip.open(sFN,mode=\"rb\") as oFile:\n",
    "        with TextIOWrapper(oFile)as oMem:\n",
    "            sLine=\"1\"\n",
    "            while sLine!=\"\":\n",
    "                sLine=oMem.readline()\n",
    "                yield sLine"
   ]
  },
  {
   "cell_type": "code",
   "execution_count": 84,
   "metadata": {},
   "outputs": [],
   "source": [
    "oGtr02=gtrFileGz(\"01_dat.csv.c1.gz\")"
   ]
  },
  {
   "cell_type": "code",
   "execution_count": 85,
   "metadata": {},
   "outputs": [
    {
     "name": "stdout",
     "output_type": "stream",
     "text": [
      "no;name;description;\n",
      "0 ;n00;d00;\n",
      "1 ;n01;d01;\n",
      "2 ;n02;d02;\n",
      "3 ;n03;d03;\n",
      "4 ;n04;d04;\n",
      "5 ;n05;d05;\n",
      "6 ;n06;d06;\n",
      "7 ;n07;d07;\n",
      "8 ;n08;d08;\n",
      "9 ;n09;d09;\n",
      "10;n10;d10;\n",
      "11;n11;d11;\n"
     ]
    }
   ],
   "source": [
    "for sLine in oGtr02:\n",
    "    print(sLine,end=\"\")"
   ]
  },
  {
   "cell_type": "code",
   "execution_count": null,
   "metadata": {},
   "outputs": [],
   "source": []
  },
  {
   "cell_type": "code",
   "execution_count": null,
   "metadata": {},
   "outputs": [],
   "source": []
  }
 ],
 "metadata": {
  "kernelspec": {
   "display_name": "Python 3",
   "language": "python",
   "name": "python3"
  },
  "language_info": {
   "codemirror_mode": {
    "name": "ipython",
    "version": 3
   },
   "file_extension": ".py",
   "mimetype": "text/x-python",
   "name": "python",
   "nbconvert_exporter": "python",
   "pygments_lexer": "ipython3",
   "version": "3.7.3"
  }
 },
 "nbformat": 4,
 "nbformat_minor": 2
}
