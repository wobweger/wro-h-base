{
 "cells": [
  {
   "cell_type": "code",
   "execution_count": 20,
   "metadata": {},
   "outputs": [],
   "source": [
    "import lindworm\n",
    "import lindworm.logUtil as ldmLg\n",
    "import lindworm.ldmStorageFolder as ldmSrgFdr\n",
    "from lindworm.ldmOS import getSha"
   ]
  },
  {
   "cell_type": "code",
   "execution_count": 21,
   "metadata": {},
   "outputs": [],
   "source": [
    "sBaseDN='/wrk/dat/tmp/toEncode/'\n",
    "sDay='20231025'"
   ]
  },
  {
   "cell_type": "code",
   "execution_count": 22,
   "metadata": {},
   "outputs": [],
   "source": [
    "sSrcDN=sBaseDN+sDay\n",
    "sBldDN='./'+sDay[:6]+'/'\n",
    "sBldFN='64l_0-'+sDay+'-1_hry.json'\n",
    "sBldFlatFN='64l_0-'+sDay+'-1_flt.json'\n",
    "sXlsFN='64l_0-'+sDay+'.xlsx'\n",
    "sCfgFN='../x_cfg/64l_0-hry.json'\n",
    "iShaMB=0\n",
    "iVerbose=0"
   ]
  },
  {
   "cell_type": "code",
   "execution_count": 23,
   "metadata": {},
   "outputs": [],
   "source": [
    "import os\n",
    "import traceback\n",
    "import ffmpeg\n",
    "import pandas\n"
   ]
  },
  {
   "cell_type": "code",
   "execution_count": 24,
   "metadata": {},
   "outputs": [],
   "source": [
    "import lindworm.logUtil as logUtil\n",
    "logUtil.logInit(\"../x_log/64l_0-stp-os.log\",iLevel=0,sLogger=None)"
   ]
  },
  {
   "cell_type": "markdown",
   "metadata": {},
   "source": [
    "check [log](../x_log/64l_0-stp-os.log)"
   ]
  },
  {
   "cell_type": "code",
   "execution_count": 25,
   "metadata": {},
   "outputs": [],
   "source": [
    "lindworm.logUtil.logDbg('test')"
   ]
  },
  {
   "cell_type": "code",
   "execution_count": 26,
   "metadata": {},
   "outputs": [],
   "source": [
    "ldmLg.logDbg('test %r',[30,40])"
   ]
  },
  {
   "cell_type": "code",
   "execution_count": 27,
   "metadata": {},
   "outputs": [],
   "source": [
    "if 0:\n",
    "    ldmSrgFdr.execMain(sSrcDN=sSrcDN,\n",
    "                   sBldDN=sBldDN,sBldFN=sBldFN,\n",
    "                   iShaMB=iShaMB,\n",
    "                   sCfgFN=sCfgFN,\n",
    "                   iVerbose=iVerbose)"
   ]
  },
  {
   "cell_type": "markdown",
   "metadata": {},
   "source": [
    "get meta data from video file  \n",
    "return as dictionary "
   ]
  },
  {
   "cell_type": "code",
   "execution_count": 28,
   "metadata": {},
   "outputs": [],
   "source": [
    "def getMetaDataMP4(sFN,sDN=None,dStat={},oLog=None,iVerbose=0):\n",
    "    \"\"\"get SHA limited\n",
    "    \n",
    "    Args:\n",
    "        sFN (str): file name\n",
    "        iMB (int , optional): max size to read\n",
    "                    - <=0 all data\n",
    "                    - >0 up to maximum in MB\n",
    "        iBlk (int , optional): block size\n",
    "        sDN (str , optional): directory name\n",
    "        oLog (ldmUtilLog , optional): logging object\n",
    "        iVerbose (int , optional): verbose level\n",
    "    Returns:\n",
    "        return code\n",
    "            - >0 : okay content read\n",
    "            - =0 : okay no data\n",
    "            - <0 : error\n",
    "    \"\"\"\n",
    "    try:\n",
    "        dMetaData={}\n",
    "        if sDN is not None:\n",
    "            sFullFN=os.path.join(sDN,sFN)\n",
    "        else:\n",
    "            sFullFN=sFN\n",
    "        if oLog is None:\n",
    "            iVerbose=0\n",
    "        if os.path.exists(sFullFN):\n",
    "            if iVerbose>0:\n",
    "                oLog.debug('sFullFN:%s check with ffmpeg'%(sFullFN))\n",
    "            oMetaData=ffmpeg.probe(sFullFN)\n",
    "            if iVerbose>90:\n",
    "                oLog.debug('meta data:%r',oMetaData)\n",
    "                #oLog.debug('streams:%r',oMetaData['streams'])\n",
    "            iFoundVideo=0\n",
    "            for dStream in oMetaData['streams']:\n",
    "                if iVerbose>90:\n",
    "                    oLog.debug('stream:%r',dStream)\n",
    "                if 'codec_type' in dStream:\n",
    "                    if dStream['codec_type']=='video':\n",
    "                        # +++ beg\n",
    "                        for sK,sKey in [\n",
    "                                    ('codec_name','codec_name'),\n",
    "                                    ('width','width'),\n",
    "                                    ('height','height'),\n",
    "                                    ('duration','duration'),\n",
    "                                    ('frame_rate','r_frame_rate')\n",
    "                                    ]:\n",
    "                            sVal=dStream.get(sKey,'')\n",
    "                            if sK in ['duration']:\n",
    "                                try:\n",
    "                                    dMetaData[sK]=float(sVal)\n",
    "                                except:\n",
    "                                    if oLog is not None:\n",
    "                                        oLog.error(traceback.format_exc())\n",
    "                                    dMetaData[sK]=sVal\n",
    "                            else:\n",
    "                                dMetaData[sK]=sVal\n",
    "                        #dTags=oMetaData['streams'][0]['tags']\n",
    "                        if 'tags' in dStream:\n",
    "                            dTags=dStream['tags']\n",
    "                            if iVerbose>90:\n",
    "                                oLog.debug('dTags:%r',dTags)\n",
    "                            for sK,sKey in [\n",
    "                                        ('creation_time','creation_time'),\n",
    "                                        ]:\n",
    "                                dMetaData[sK]=dTags.get(sKey,'')\n",
    "                        else:\n",
    "                            dMetaData['creation_time']=dStat['zMod']\n",
    "                    iFoundVideo=1\n",
    "                    break\n",
    "            if iFoundVideo>0:\n",
    "                sLbl=' '.join([\n",
    "                                dMetaData['creation_time'][:10],\n",
    "                                dMetaData['creation_time'][11:16],\n",
    "                                sFN[:-4]\n",
    "                            ])\n",
    "                dMetaData['lbl']=sLbl\n",
    "        if iVerbose>5:\n",
    "            oLog.debug('dMetaData:%r',dMetaData)\n",
    "        return dMetaData\n",
    "    except:\n",
    "        if oLog is not None:\n",
    "            oLog.error(traceback.format_exc())\n",
    "        dMetaData['_exception']='???!!!'\n",
    "        oLog.error('meta data:%r',oMetaData)\n",
    "        return dMetaData\n"
   ]
  },
  {
   "cell_type": "code",
   "execution_count": 29,
   "metadata": {},
   "outputs": [],
   "source": [
    "#ffmpeg.probe('/wrk/dat/tmp/toEncode/20230710//./100_PANA/P1001341.MP4')"
   ]
  },
  {
   "cell_type": "markdown",
   "metadata": {},
   "source": [
    "customize lindworm storage folder class"
   ]
  },
  {
   "cell_type": "code",
   "execution_count": 30,
   "metadata": {},
   "outputs": [],
   "source": [
    "class ldmFdrPhoto(ldmSrgFdr.ldmStorageFolder):\n",
    "    def clrEnd(self):\n",
    "        \"\"\"clear stored file names to process\n",
    "        \"\"\"\n",
    "        iRet=ldmSrgFdr.ldmStorageFolder.clrEnd(self)\n",
    "        self.lFilStat=None\n",
    "        self.lStatMP4=None\n",
    "        return iRet\n",
    "    def prcPost(self,**kwargs):\n",
    "        \"\"\"processing end\n",
    "\n",
    "        Args:\n",
    "            **kwargs ... flexible keyword argument\n",
    "                iShaMB  ... data to calculate sha in MB \n",
    "                iMetaDataFlat ... add meta data flat\n",
    "        Returns:\n",
    "            return code\n",
    "                - >0 : okay processing done\n",
    "                - =0 : okay nop\n",
    "                - <0 : error\n",
    "        \"\"\"\n",
    "        try:\n",
    "            # +++++ beg:initialize\n",
    "            iRet=0\n",
    "            sOrg='ldmFdrPhoto::prcPost'\n",
    "            iShaMB=kwargs.get('iShaMB',0)\n",
    "            iMetaDataFlat=kwargs.get('iMetaDataFlat',0)\n",
    "            # ----- end:initialize\n",
    "            if self.sDefEnd is None:\n",
    "                self.logDbg('skp:%s iRet:%d empty definition,'\n",
    "                                'prcEnd has to be call before',sOrg,iRet)\n",
    "                return iRet\n",
    "            # +++++ beg:folder post processing\n",
    "            iOfsFld=-1\n",
    "            iCntFN=0\n",
    "            self.logDbg('beg:%s sDefEnd:%s len(lFdr):%d kwargs:%r',sOrg,\n",
    "                                self.sDefEnd,len(self.lFdr),kwargs)\n",
    "            # +++++ beg:flat file list\n",
    "            self.lFilStat=[]\n",
    "            self.lStatMP4=[]\n",
    "            # ----- end:flat file list\n",
    "            oNty=kwargs.get('oNty',None)\n",
    "            if oNty is not None:\n",
    "                self.logDbg('    dCntEnd:%r',self.dCntEnd)\n",
    "                oNty.SetMax(self.dCntEnd['iFN'])\n",
    "            for sRelDN in self.lFdr:\n",
    "                iOfsFld+=1\n",
    "                if sRelDN in self.dFolder:\n",
    "                    if oNty is not None:\n",
    "                        oNty.SetStatus(sRelDN)\n",
    "                        oNty.IncStatus()\n",
    "                    sDN='/'.join([self.sDefEnd,sRelDN])\n",
    "                    dDN=self.dFolder[sRelDN]\n",
    "                    if self.iVerbose>5:\n",
    "                        self.logDbg('   :%s sRelDN:%s len(dDN):%d',sOrg,\n",
    "                                        sRelDN,len(dDN))\n",
    "                    if self.iVerbose>9:\n",
    "                        self.logDbg('    dDN:%r',dDN)\n",
    "                    if '.' in dDN:\n",
    "                        dFN=dDN['.']\n",
    "                        # +++++ beg:calc sha fingerprint\n",
    "                        for sFN,dStat in dFN.items():\n",
    "                            iCntFN+=1\n",
    "                            if oNty is not None:\n",
    "                                #oNty.SetStatus(sFN)\n",
    "                                #oNty.IncStatus()\n",
    "                                oNty.SetVal(iCntFN)\n",
    "                            # +++++ beg:calc sha fingerprint\n",
    "                            sSha=getSha(sFN,iMB=iShaMB,\n",
    "                                        sDN=sDN,\n",
    "                                        oLog=self.oLog)\n",
    "                            if self.iVerbose>5:\n",
    "                                self.logDbg('      sFN:%s sha:%s',sFN,\n",
    "                                                sSha)\n",
    "                            dStat['sha']=sSha\n",
    "                            # ----- end:calc sha fingerprint\n",
    "                            # +++++ beg:calc mp4 meta data\n",
    "                            isVideo=0\n",
    "                            tFileNameExt=os.path.splitext(sFN)\n",
    "                            sExt=tFileNameExt[1].lower()\n",
    "                            if self.iVerbose>5:\n",
    "                                self.logDbg('      sFN:%s sExt:%s t %r',sFN,\n",
    "                                                sExt,tFileNameExt)\n",
    "                            if sExt in ['.mp4','.avi']:\n",
    "                            #if sFN.endswith('.MP4'):\n",
    "                                dMetaData=getMetaDataMP4(sFN,\n",
    "                                            sDN=sDN,\n",
    "                                            dStat=dStat,\n",
    "                                            oLog=self.oLog,\n",
    "                                            iVerbose=10)\n",
    "                                if self.iVerbose>5:\n",
    "                                    self.logDbg('      sFN:%s dMetaData:%s',sFN,\n",
    "                                                    dMetaData)\n",
    "                                if len(dMetaData)>1:\n",
    "                                    if iMetaDataFlat<=0:\n",
    "                                        dStat['meta-data']=dMetaData\n",
    "                                    else:\n",
    "                                        dStat.update(dMetaData)\n",
    "                                    isVideo=1\n",
    "                            # ----- end:calc mp4 meta data\n",
    "                            # +++++ beg:\n",
    "                            dFilStat={\n",
    "                                'FN':sFN,\n",
    "                                'DN':sDN,\n",
    "                                }\n",
    "                            dFilStat.update(dStat)\n",
    "                            # ----- end:\n",
    "                            self.lFilStat.append(dFilStat)\n",
    "                            if isVideo>0:\n",
    "                                self.lStatMP4.append(dFilStat)\n",
    "                        # ----- end:calc sha fingerprint\n",
    "            # ----- end:folder post processing\n",
    "            #if oNty is not None:\n",
    "            #S    oNty.clrStatus()\n",
    "            self.logDbg('end:%s iRet:%d',sOrg,iRet)\n",
    "            return iRet\n",
    "        except:\n",
    "            self.logTB()\n",
    "            return -1\n"
   ]
  },
  {
   "cell_type": "code",
   "execution_count": 31,
   "metadata": {},
   "outputs": [],
   "source": [
    "oFld=ldmFdrPhoto(iVerbose=iVerbose)"
   ]
  },
  {
   "cell_type": "markdown",
   "metadata": {},
   "source": [
    "load configuration"
   ]
  },
  {
   "cell_type": "code",
   "execution_count": 32,
   "metadata": {},
   "outputs": [],
   "source": [
    "iRet=oFld.loadCfg(sCfgFN)"
   ]
  },
  {
   "cell_type": "markdown",
   "metadata": {},
   "source": [
    "read folder"
   ]
  },
  {
   "cell_type": "code",
   "execution_count": 33,
   "metadata": {},
   "outputs": [],
   "source": [
    "oFld.prcBeg(sSrcDN,oRef=None)\n",
    "oFld.prcExc()#(oGtrMD=self)\n",
    "iRet=oFld.prcEnd(iShaMB=iShaMB,iMetaDataFlat=1)\n",
    "ldmLg.logInf('sSrcDN %r ret:%d',sSrcDN,iRet)"
   ]
  },
  {
   "cell_type": "markdown",
   "metadata": {},
   "source": [
    "save result"
   ]
  },
  {
   "cell_type": "code",
   "execution_count": 34,
   "metadata": {},
   "outputs": [],
   "source": [
    "iRet=oFld.saveDat(sBldFN,sDN=sBldDN,\n",
    "            lKey=[oFld.sDefEnd],\n",
    "            sAtr='dDat')\n",
    "ldmLg.logInf('sSrcDN %r ret:%d sBldFN %r sBldDN %r',sSrcDN,iRet,sBldFN,sBldDN)"
   ]
  },
  {
   "cell_type": "code",
   "execution_count": 35,
   "metadata": {},
   "outputs": [],
   "source": [
    "iRet=oFld.saveDat(sBldFlatFN,sDN=sBldDN,\n",
    "            lKey=None,\n",
    "            sAtr='lFilStat')\n",
    "ldmLg.logInf('sSrcDN %r ret:%d sBldFN %r sBldDN %r',sSrcDN,iRet,sBldFlatFN,sBldDN)"
   ]
  },
  {
   "cell_type": "markdown",
   "metadata": {},
   "source": [
    "show / log internal content"
   ]
  },
  {
   "cell_type": "code",
   "execution_count": 36,
   "metadata": {},
   "outputs": [],
   "source": [
    "ldmLg.logDbg(\"dCntEnd %r\",oFld.dCntEnd)"
   ]
  },
  {
   "cell_type": "markdown",
   "metadata": {},
   "source": [
    "write data to excel file using pandas"
   ]
  },
  {
   "cell_type": "code",
   "execution_count": 37,
   "metadata": {},
   "outputs": [],
   "source": [
    "sFN=os.path.join(sBldDN,sXlsFN)\n",
    "ldmLg.logInf('write excel of sXlsFN %r sBldDN %r  sSrcDN %r',sXlsFN,sBldDN,sSrcDN)\n",
    "with pandas.ExcelWriter(sFN) as oWrk:\n",
    "    dfFilStat=pandas.DataFrame(oFld.lFilStat)\n",
    "    try:\n",
    "        dfFilStat.sort_values(['zMod'],inplace=True)\n",
    "    except:\n",
    "        pass\n",
    "    dfFilStat.to_excel(oWrk,sheet_name='content',index=False)\n",
    "\n",
    "    dfFilStat=pandas.DataFrame(oFld.lStatMP4)\n",
    "    try:\n",
    "        dfFilStat.sort_values(['DN','FN'],inplace=True)\n",
    "    except:\n",
    "        pass\n",
    "    dfFilStat.to_excel(oWrk,sheet_name='mp4',index=False)"
   ]
  },
  {
   "cell_type": "markdown",
   "metadata": {},
   "source": [
    "finished\n",
    "\n",
    "+ check out `sBldFN` `sBldDN`\n",
    "+ check flat `sBldFlatFN` `sBldDN`\n",
    "+ check xls `sXlsFN` `sBldDN`\n",
    "+ check [log](../x_log/64l_0-stp-os.log)"
   ]
  },
  {
   "cell_type": "code",
   "execution_count": 38,
   "metadata": {},
   "outputs": [],
   "source": [
    "ldmLg.logInf('sSrcDN %r finished',sSrcDN)"
   ]
  }
 ],
 "metadata": {
  "kernelspec": {
   "display_name": "Python 3",
   "language": "python",
   "name": "python3"
  },
  "language_info": {
   "codemirror_mode": {
    "name": "ipython",
    "version": 3
   },
   "file_extension": ".py",
   "mimetype": "text/x-python",
   "name": "python",
   "nbconvert_exporter": "python",
   "pygments_lexer": "ipython3",
   "version": "3.11.6"
  }
 },
 "nbformat": 4,
 "nbformat_minor": 2
}
