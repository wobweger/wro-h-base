{
 "cells": [
  {
   "cell_type": "markdown",
   "metadata": {},
   "source": [
    "# lindworm storage folder on videos\n",
    "\n",
    "customization of `ldmStorageFolder` to extract video meta data and store information\n",
    "in file (json/excel).\n",
    "\n",
    "configuration\n",
    "\n",
    "+ `sSrcDN` folder to walk\n",
    "+ `sBldDN` folder for output files\n",
    "+ `sBldFN` json output file, `ldmStorageFolder` result enriched by meta data\n",
    "+ `sBldFlatFN` json output file, flat result of `sBldFN` \n",
    "+ `sXlsFN` excel output file similar to flat result with additional video sheet\n",
    "+ `sCfgFN` file status calculation for `ldmStorageFolder`\n",
    "+ `iShaMB` file size to calculate sha fingerprint \n",
    "  + `-1`:all\n",
    "  + `0` no fingerprint\n",
    "  + >`0` MB of data to use for sha fingerprint calculation  \n",
    "+ `iVerbose` verbose level, higher values more details (10,50 used here)\n",
    "\n"
   ]
  },
  {
   "cell_type": "code",
   "execution_count": 162,
   "metadata": {},
   "outputs": [],
   "source": [
    "import lindworm\n",
    "import lindworm.logUtil as ldmLg\n",
    "import lindworm.ldmStorageFolder as ldmSrgFdr\n",
    "from lindworm.ldmOS import getSha"
   ]
  },
  {
   "cell_type": "code",
   "execution_count": 163,
   "metadata": {},
   "outputs": [],
   "source": [
    "sSrcDN='/wrk/dat/tmp/toEncode/20230710/'\n",
    "sBldDN='./x_out/'\n",
    "sBldFN='64l_0-stp-os.json'\n",
    "sBldFlatFN='64l_0-stp-os-0.json'\n",
    "sXlsFN='64l_0-stp-os.xlsx'\n",
    "sCfgFN='./x_cfg/64l_0-stp-os.json'\n",
    "iShaMB=0\n",
    "iVerbose=50"
   ]
  },
  {
   "cell_type": "code",
   "execution_count": 164,
   "metadata": {},
   "outputs": [],
   "source": [
    "import os\n",
    "import traceback\n",
    "import ffmpeg\n",
    "import pandas\n"
   ]
  },
  {
   "cell_type": "code",
   "execution_count": 165,
   "metadata": {},
   "outputs": [],
   "source": [
    "import lindworm.logUtil as logUtil\n",
    "logUtil.logInit(\"./x_log/64l_0-stp-os.log\",iLevel=0,sLogger=None)"
   ]
  },
  {
   "cell_type": "markdown",
   "metadata": {},
   "source": [
    "check [log](./x_log/64l_0-stp-os.log)"
   ]
  },
  {
   "cell_type": "code",
   "execution_count": 166,
   "metadata": {},
   "outputs": [],
   "source": [
    "lindworm.logUtil.logDbg('test')"
   ]
  },
  {
   "cell_type": "code",
   "execution_count": 167,
   "metadata": {},
   "outputs": [],
   "source": [
    "ldmLg.logDbg('test %r',[30,40])"
   ]
  },
  {
   "cell_type": "code",
   "execution_count": 168,
   "metadata": {},
   "outputs": [],
   "source": [
    "if 0:\n",
    "    ldmSrgFdr.execMain(sSrcDN=sSrcDN,\n",
    "                   sBldDN=sBldDN,sBldFN=sBldFN,\n",
    "                   iShaMB=iShaMB,\n",
    "                   sCfgFN=sCfgFN,\n",
    "                   iVerbose=iVerbose)"
   ]
  },
  {
   "cell_type": "markdown",
   "metadata": {},
   "source": [
    "get meta data from video file  \n",
    "return as dictionary "
   ]
  },
  {
   "cell_type": "code",
   "execution_count": 169,
   "metadata": {},
   "outputs": [],
   "source": [
    "def getMetaDataMP4(sFN,sDN=None,oLog=None,iVerbose=0):\n",
    "    \"\"\"get SHA limited\n",
    "    \n",
    "    Args:\n",
    "        sFN (str): file name\n",
    "        iMB (int , optional): max size to read\n",
    "                    - <=0 all data\n",
    "                    - >0 up to maximum in MB\n",
    "        iBlk (int , optional): block size\n",
    "        sDN (str , optional): directory name\n",
    "        oLog (ldmUtilLog , optional): logging object\n",
    "        iVerbose (int , optional): verbose level\n",
    "    Returns:\n",
    "        return code\n",
    "            - >0 : okay content read\n",
    "            - =0 : okay no data\n",
    "            - <0 : error\n",
    "    \"\"\"\n",
    "    try:\n",
    "        dMetaData={}\n",
    "        if sDN is not None:\n",
    "            sFullFN=os.path.join(sDN,sFN)\n",
    "        else:\n",
    "            sFullFN=sFN\n",
    "        if oLog is None:\n",
    "            iVerbose=0\n",
    "        if os.path.exists(sFullFN):\n",
    "            if iVerbose>0:\n",
    "                oLog.debug('sFullFN:%s check with ffmpeg'%(sFullFN))\n",
    "            oMetaData=ffmpeg.probe(sFullFN)\n",
    "            if iVerbose>10:\n",
    "                oLog.debug('meta data:%r',oMetaData)\n",
    "                #oLog.debug('streams:%r',oMetaData['streams'])\n",
    "            iFoundVideo=0\n",
    "            for dStream in oMetaData['streams']:\n",
    "                if iVerbose>10:\n",
    "                    oLog.debug('stream:%r',dStream)\n",
    "                if 'codec_type' in dStream:\n",
    "                    if dStream['codec_type']=='video':\n",
    "                        # +++ beg\n",
    "                        for sK,sKey in [\n",
    "                                    ('codec_name','codec_name'),\n",
    "                                    ('width','width'),\n",
    "                                    ('height','height'),\n",
    "                                    ('duration','duration'),\n",
    "                                    ('frame_rate','r_frame_rate')\n",
    "                                    ]:\n",
    "                            sVal=dStream.get(sKey,'')\n",
    "                            if sK in ['duration']:\n",
    "                                try:\n",
    "                                    dMetaData[sK]=float(sVal)\n",
    "                                except:\n",
    "                                    if oLog is not None:\n",
    "                                        oLog.error(traceback.format_exc())\n",
    "                                    dMetaData[sK]=sVal\n",
    "                            else:\n",
    "                                dMetaData[sK]=sVal\n",
    "                        dTags=oMetaData['streams'][0]['tags']\n",
    "                        if iVerbose>10:\n",
    "                            oLog.debug('dTags:%r',dTags)\n",
    "                        for sK,sKey in [\n",
    "                                    ('creation_time','creation_time'),\n",
    "                                    ]:\n",
    "                            dMetaData[sK]=dTags.get(sKey,'')\n",
    "                    iFoundVideo=1\n",
    "                    break\n",
    "            if iFoundVideo>0:\n",
    "                sLbl=' '.join([\n",
    "                                dMetaData['creation_time'][:10],\n",
    "                                dMetaData['creation_time'][11:16],\n",
    "                                sFN[:-4]\n",
    "                            ])\n",
    "                dMetaData['lbl']=sLbl\n",
    "        if iVerbose>10:\n",
    "            oLog.debug('dMetaData:%r',dMetaData)\n",
    "        return dMetaData\n",
    "    except:\n",
    "        if oLog is not None:\n",
    "            oLog.error(traceback.format_exc())\n",
    "        dMetaData['_exception']='???!!!'\n",
    "        return dMetaData\n"
   ]
  },
  {
   "cell_type": "code",
   "execution_count": 170,
   "metadata": {},
   "outputs": [],
   "source": [
    "#ffmpeg.probe('/wrk/dat/tmp/toEncode/20230710//./100_PANA/P1001341.MP4')"
   ]
  },
  {
   "cell_type": "markdown",
   "metadata": {},
   "source": [
    "customize lindworm storage folder class"
   ]
  },
  {
   "cell_type": "code",
   "execution_count": 171,
   "metadata": {},
   "outputs": [],
   "source": [
    "class ldmFdrPhoto(ldmSrgFdr.ldmStorageFolder):\n",
    "    def clrEnd(self):\n",
    "        \"\"\"clear stored file names to process\n",
    "        \"\"\"\n",
    "        iRet=ldmSrgFdr.ldmStorageFolder.clrEnd(self)\n",
    "        self.lFilStat=None\n",
    "        self.lStatMP4=None\n",
    "        return iRet\n",
    "    def prcPost(self,**kwargs):\n",
    "        \"\"\"processing end\n",
    "\n",
    "        Args:\n",
    "            **kwargs ... flexible keyword argument\n",
    "                iShaMB  ... data to calculate sha in MB \n",
    "                iMetaDataFlat ... add meta data flat\n",
    "        Returns:\n",
    "            return code\n",
    "                - >0 : okay processing done\n",
    "                - =0 : okay nop\n",
    "                - <0 : error\n",
    "        \"\"\"\n",
    "        try:\n",
    "            # +++++ beg:initialize\n",
    "            iRet=0\n",
    "            sOrg='ldmFdrPhoto::prcPost'\n",
    "            iShaMB=kwargs.get('iShaMB',0)\n",
    "            iMetaDataFlat=kwargs.get('iMetaDataFlat',0)\n",
    "            # ----- end:initialize\n",
    "            if self.sDefEnd is None:\n",
    "                self.logDbg('skp:%s iRet:%d empty definition,'\n",
    "                                'prcEnd has to be call before',sOrg,iRet)\n",
    "                return iRet\n",
    "            # +++++ beg:folder post processing\n",
    "            iOfsFld=-1\n",
    "            iCntFN=0\n",
    "            self.logDbg('beg:%s sDefEnd:%s len(lFdr):%d kwargs:%r',sOrg,\n",
    "                                self.sDefEnd,len(self.lFdr),kwargs)\n",
    "            # +++++ beg:flat file list\n",
    "            self.lFilStat=[]\n",
    "            self.lStatMP4=[]\n",
    "            # ----- end:flat file list\n",
    "            oNty=kwargs.get('oNty',None)\n",
    "            if oNty is not None:\n",
    "                self.logDbg('    dCntEnd:%r',self.dCntEnd)\n",
    "                oNty.SetMax(self.dCntEnd['iFN'])\n",
    "            for sRelDN in self.lFdr:\n",
    "                iOfsFld+=1\n",
    "                if sRelDN in self.dFolder:\n",
    "                    if oNty is not None:\n",
    "                        oNty.SetStatus(sRelDN)\n",
    "                        oNty.IncStatus()\n",
    "                    sDN='/'.join([self.sDefEnd,sRelDN])\n",
    "                    dDN=self.dFolder[sRelDN]\n",
    "                    if self.iVerbose>5:\n",
    "                        self.logDbg('   :%s sRelDN:%s len(dDN):%d',sOrg,\n",
    "                                        sRelDN,len(dDN))\n",
    "                    if self.iVerbose>9:\n",
    "                        self.logDbg('    dDN:%r',dDN)\n",
    "                    if '.' in dDN:\n",
    "                        dFN=dDN['.']\n",
    "                        # +++++ beg:calc sha fingerprint\n",
    "                        for sFN,dStat in dFN.items():\n",
    "                            iCntFN+=1\n",
    "                            if oNty is not None:\n",
    "                                #oNty.SetStatus(sFN)\n",
    "                                #oNty.IncStatus()\n",
    "                                oNty.SetVal(iCntFN)\n",
    "                            # +++++ beg:calc sha fingerprint\n",
    "                            sSha=getSha(sFN,iMB=iShaMB,\n",
    "                                        sDN=sDN,\n",
    "                                        oLog=self.oLog)\n",
    "                            if self.iVerbose>5:\n",
    "                                self.logDbg('      sFN:%s sha:%s',sFN,\n",
    "                                                sSha)\n",
    "                            dStat['sha']=sSha\n",
    "                            # ----- end:calc sha fingerprint\n",
    "                            # +++++ beg:calc mp4 meta data\n",
    "                            isVideo=0\n",
    "                            if sFN.endswith('.MP4'):\n",
    "                                dMetaData=getMetaDataMP4(sFN,\n",
    "                                            sDN=sDN,\n",
    "                                            oLog=self.oLog,\n",
    "                                            iVerbose=50)\n",
    "                                if self.iVerbose>5:\n",
    "                                    self.logDbg('      sFN:%s dMetaData:%s',sFN,\n",
    "                                                    dMetaData)\n",
    "                                if len(dMetaData)>1:\n",
    "                                    if iMetaDataFlat<=0:\n",
    "                                        dStat['meta-data']=dMetaData\n",
    "                                    else:\n",
    "                                        dStat.update(dMetaData)\n",
    "                                    isVideo=1\n",
    "                            # ----- end:calc mp4 meta data\n",
    "                            # +++++ beg:\n",
    "                            dFilStat={\n",
    "                                'FN':sFN,\n",
    "                                'DN':sDN,\n",
    "                                }\n",
    "                            dFilStat.update(dStat)\n",
    "                            # ----- end:\n",
    "                            self.lFilStat.append(dFilStat)\n",
    "                            if isVideo>0:\n",
    "                                self.lStatMP4.append(dFilStat)\n",
    "                        # ----- end:calc sha fingerprint\n",
    "            # ----- end:folder post processing\n",
    "            #if oNty is not None:\n",
    "            #S    oNty.clrStatus()\n",
    "            self.logDbg('end:%s iRet:%d',sOrg,iRet)\n",
    "            return iRet\n",
    "        except:\n",
    "            self.logTB()\n",
    "            return -1\n"
   ]
  },
  {
   "cell_type": "code",
   "execution_count": 172,
   "metadata": {},
   "outputs": [],
   "source": [
    "#oFld=ldmSrgFdr.ldmStorageFolder(iVerbose=iVerbose)\n",
    "oFld=ldmFdrPhoto(iVerbose=iVerbose)"
   ]
  },
  {
   "cell_type": "markdown",
   "metadata": {},
   "source": [
    "load configuration"
   ]
  },
  {
   "cell_type": "code",
   "execution_count": 173,
   "metadata": {},
   "outputs": [],
   "source": [
    "iRet=oFld.loadCfg(sCfgFN)"
   ]
  },
  {
   "cell_type": "markdown",
   "metadata": {},
   "source": [
    "read folder"
   ]
  },
  {
   "cell_type": "code",
   "execution_count": 174,
   "metadata": {},
   "outputs": [],
   "source": [
    "oFld.prcBeg(sSrcDN,oRef=None)\n",
    "oFld.prcExc()#(oGtrMD=self)\n",
    "iRet=oFld.prcEnd(iShaMB=iShaMB,iMetaDataFlat=1)\n",
    "ldmLg.logInf('sSrcDN %r ret:%d',sSrcDN,iRet)"
   ]
  },
  {
   "cell_type": "markdown",
   "metadata": {},
   "source": [
    "save result"
   ]
  },
  {
   "cell_type": "code",
   "execution_count": 175,
   "metadata": {},
   "outputs": [],
   "source": [
    "iRet=oFld.saveDat(sBldFN,sDN=sBldDN,\n",
    "            lKey=[oFld.sDefEnd],\n",
    "            sAtr='dDat')\n",
    "ldmLg.logInf('sSrcDN %r ret:%d sBldFN %r sBldDN %r',sSrcDN,iRet,sBldFN,sBldDN)"
   ]
  },
  {
   "cell_type": "code",
   "execution_count": 176,
   "metadata": {},
   "outputs": [],
   "source": [
    "iRet=oFld.saveDat(sBldFlatFN,sDN=sBldDN,\n",
    "            lKey=None,\n",
    "            sAtr='lFilStat')\n",
    "ldmLg.logInf('sSrcDN %r ret:%d sBldFN %r sBldDN %r',sSrcDN,iRet,sBldFlatFN,sBldDN)"
   ]
  },
  {
   "cell_type": "markdown",
   "metadata": {},
   "source": [
    "show / log internal content"
   ]
  },
  {
   "cell_type": "code",
   "execution_count": 177,
   "metadata": {},
   "outputs": [],
   "source": [
    "ldmLg.logDbg(\"dCntEnd %r\",oFld.dCntEnd)"
   ]
  },
  {
   "cell_type": "markdown",
   "metadata": {},
   "source": [
    "write data to excel file using pandas"
   ]
  },
  {
   "cell_type": "code",
   "execution_count": 178,
   "metadata": {},
   "outputs": [],
   "source": [
    "sFN=os.path.join(sBldDN,sXlsFN)\n",
    "ldmLg.logInf('write excel of sXlsFN %r sBldDN %r  sSrcDN %r',sXlsFN,sBldDN,sSrcDN)\n",
    "with pandas.ExcelWriter(sFN) as oWrk:\n",
    "    dfFilStat=pandas.DataFrame(oFld.lFilStat)\n",
    "    dfFilStat.sort_values(['FN'],inplace=True)\n",
    "    dfFilStat.to_excel(oWrk,sheet_name='content',index=False)\n",
    "\n",
    "    dfFilStat=pandas.DataFrame(oFld.lStatMP4)\n",
    "    dfFilStat.sort_values(['FN'],inplace=True)\n",
    "    dfFilStat.to_excel(oWrk,sheet_name='mp4',index=False)"
   ]
  },
  {
   "cell_type": "markdown",
   "metadata": {},
   "source": [
    "finished\n",
    "\n",
    "+ check [out]('./x_out/64l_0-stp-os.json) `sBldFN` `sBldDN`\n",
    "+ check [flat]('./x_out/64l_0-stp-os-0.json) `sBldFlatFN` `sBldDN`\n",
    "+ check [xls]('./x_out/64l_0-stp-os.json) `sXlsFN` `sBldDN`\n",
    "+ check [log](./x_log/64l_0-stp-os.log)"
   ]
  },
  {
   "cell_type": "code",
   "execution_count": 179,
   "metadata": {},
   "outputs": [],
   "source": [
    "ldmLg.logInf('sSrcDN %r finished',sSrcDN)"
   ]
  }
 ],
 "metadata": {
  "kernelspec": {
   "display_name": "Python 3",
   "language": "python",
   "name": "python3"
  },
  "language_info": {
   "codemirror_mode": {
    "name": "ipython",
    "version": 3
   },
   "file_extension": ".py",
   "mimetype": "text/x-python",
   "name": "python",
   "nbconvert_exporter": "python",
   "pygments_lexer": "ipython3",
   "version": "3.11.6"
  }
 },
 "nbformat": 4,
 "nbformat_minor": 2
}
