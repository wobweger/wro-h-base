{
 "cells": [
  {
   "cell_type": "markdown",
   "metadata": {},
   "source": [
    "# mastodon API\n",
    "\n",
    "read data of accounts you are following and store it in excel file.\n",
    "\n",
    "+ utilizes `Mastodon.py` package to read account information\n",
    "+ `pandas` is used to create excel file\n",
    "  + sheet for accounts following\n",
    "  + sheet for status per day, find loud and mute accounts\n",
    "+ you may want to remove inactive accounts, which haven't tooted at all, set `iLimitMute` to non negative value\n",
    "+ you may want to remove loud accounts, those tooting too much per day, set `iLimitLoud` to a positive number\n"
   ]
  },
  {
   "cell_type": "markdown",
   "metadata": {},
   "source": [
    "\n",
    "background links, references\n",
    "\n",
    "+ [Mastodon.py](https://pypi.org/project/Mastodon.py/)\n",
    "  + [pypi](https://pypi.org/project/Mastodon.py/)\n",
    "  + [doc](https://mastodonpy.readthedocs.io/en/stable/)\n",
    "  + [repo](https://github.com/halcy/Mastodon.py)\n",
    "+ [mastodon](https://joinmastodon.org/)\n",
    "  + [API getting started](https://docs.joinmastodon.org/client/intro/)\n",
    "  + [pagination](https://docs.joinmastodon.org/api/guidelines/#pagination)\n",
    "\n",
    "**setup**\n",
    "\n",
    "```shell\n",
    "pip install -r requirements.txt\n",
    "```"
   ]
  },
  {
   "cell_type": "code",
   "execution_count": null,
   "metadata": {},
   "outputs": [],
   "source": [
    "sSecretFN='.env.py.secret'\n",
    "sOutFN='me_following.xlsx'\n",
    "sSht='following'\n",
    "sShtDays='status_per_day'\n",
    "iLimitMute=0                # inactive accounts\n",
    "iLimitLoud=120              # accounts above this threshold are unfollowed"
   ]
  },
  {
   "cell_type": "markdown",
   "metadata": {},
   "source": [
    "create an access token through profile, go to `</> Development`\n",
    "\n",
    "+ `New Application`\n",
    "  + provide meaningful application name\n",
    "  + define scopes, grant permission for application\n",
    "  + `submit`\n",
    "+ click on application name\n",
    "  + copy value of `your access token`\n",
    "  + store it to file `sSecretFN`\n",
    "  + `save changes`\n",
    "\n",
    "minimal content of `sSecretFN`\n",
    "\n",
    "```\n",
    "access_token=\"<your access token>\"\n",
    "api_base_url=\"https://<instance name>\"\n",
    "```\n",
    "\n",
    "do not expose your tokens to the repo, add line to `.gitignore`\n",
    "\n",
    "```\n",
    "**/.env.*\n",
    "```\n"
   ]
  },
  {
   "cell_type": "markdown",
   "metadata": {},
   "source": [
    "create an access token through python, do this only once\n",
    "\n",
    "```python\n",
    "from mastodon import Mastodon\n",
    "\n",
    "oMstdn = Mastodon(\n",
    "    client_id = '<your app>',\n",
    "    api_base_url = 'https://<your instance>'\n",
    ")\n",
    "oMstdn.log_in(\n",
    "    'youremail',\n",
    "    'superseretpasswork',\n",
    "    to_file = '.env.py.secret'\n",
    ")\n",
    "```"
   ]
  },
  {
   "cell_type": "markdown",
   "metadata": {},
   "source": [
    "**THE MIT license (MIT)**\n",
    "\n",
    "Copyright © 2022 Walter Obweger (WRO)\n",
    "\n",
    "Permission is hereby granted, free of charge, to any person obtaining a copy of this software and associated documentation files (the “Software”), to deal in the Software without restriction, including without limitation the rights to use, copy, modify, merge, publish, distribute, sublicense, and/or sell copies of the Software, and to permit persons to whom the Software is furnished to do so, subject to the following conditions:\n",
    "\n",
    "The above copyright notice and this permission notice shall be included in all copies or substantial portions of the Software.\n",
    "\n",
    "THE SOFTWARE IS PROVIDED “AS IS”, WITHOUT WARRANTY OF ANY KIND, EXPRESS OR IMPLIED, INCLUDING BUT NOT LIMITED TO THE WARRANTIES OF MERCHANTABILITY, FITNESS FOR A PARTICULAR PURPOSE AND NONINFRINGEMENT. IN NO EVENT SHALL THE AUTHORS OR COPYRIGHT HOLDERS BE LIABLE FOR ANY CLAIM, DAMAGES OR OTHER LIABILITY, WHETHER IN AN ACTION OF CONTRACT, TORT OR OTHERWISE, ARISING FROM, OUT OF OR IN CONNECTION WITH THE SOFTWARE OR THE USE OR OTHER DEALINGS IN THE SOFTWARE."
   ]
  },
  {
   "cell_type": "code",
   "execution_count": null,
   "metadata": {},
   "outputs": [],
   "source": [
    "import os\n",
    "import time\n",
    "import datetime\n",
    "import pprint\n",
    "import traceback\n",
    "import random\n",
    "import pandas\n",
    "\n",
    "from dotenv import load_dotenv\n",
    "from mastodon import Mastodon\n"
   ]
  },
  {
   "cell_type": "code",
   "execution_count": null,
   "metadata": {},
   "outputs": [],
   "source": [
    "iVerbose=20"
   ]
  },
  {
   "cell_type": "code",
   "execution_count": null,
   "metadata": {},
   "outputs": [],
   "source": [
    "load_dotenv(sSecretFN)\n",
    "print(os.environ.get('api_base_url'))"
   ]
  },
  {
   "cell_type": "code",
   "execution_count": null,
   "metadata": {},
   "outputs": [],
   "source": [
    "oMstdn = Mastodon(\n",
    "    access_token = os.environ.get('access_token'),\n",
    "    api_base_url = os.environ.get('api_base_url')\n",
    ")"
   ]
  },
  {
   "cell_type": "code",
   "execution_count": null,
   "metadata": {},
   "outputs": [],
   "source": [
    "sVer=oMstdn.retrieve_mastodon_version()\n",
    "print(sVer)"
   ]
  },
  {
   "cell_type": "markdown",
   "metadata": {},
   "source": [
    "get me for mastodon instance"
   ]
  },
  {
   "cell_type": "code",
   "execution_count": null,
   "metadata": {},
   "outputs": [],
   "source": [
    "dMe=oMstdn.me()"
   ]
  },
  {
   "cell_type": "code",
   "execution_count": null,
   "metadata": {},
   "outputs": [],
   "source": [
    "pprint.pp(dMe)"
   ]
  },
  {
   "cell_type": "code",
   "execution_count": null,
   "metadata": {},
   "outputs": [],
   "source": [
    "print(dMe.id)"
   ]
  },
  {
   "cell_type": "code",
   "execution_count": null,
   "metadata": {},
   "outputs": [],
   "source": [
    "dMe.created_at.strftime('%Y-%m-%d')"
   ]
  },
  {
   "cell_type": "code",
   "execution_count": null,
   "metadata": {},
   "outputs": [],
   "source": [
    "print(dMe.url)"
   ]
  },
  {
   "cell_type": "markdown",
   "metadata": {},
   "source": [
    "get first page of me following"
   ]
  },
  {
   "cell_type": "code",
   "execution_count": null,
   "metadata": {},
   "outputs": [],
   "source": [
    "lFollowing=oMstdn.account_following(dMe.id)"
   ]
  },
  {
   "cell_type": "markdown",
   "metadata": {},
   "source": [
    "get keys from first element "
   ]
  },
  {
   "cell_type": "code",
   "execution_count": null,
   "metadata": {},
   "outputs": [],
   "source": [
    "print(list(lFollowing[0].keys()))"
   ]
  },
  {
   "cell_type": "code",
   "execution_count": null,
   "metadata": {},
   "outputs": [],
   "source": [
    "def addAccountToDict(lFollowing,lFollow):\n",
    "    \"\"\"iterate over following list page and store relevant account data in list\n",
    "    \"\"\"\n",
    "    for dAcc in lFollowing:\n",
    "        dA={\n",
    "            'id':dAcc.id,\n",
    "            'username':dAcc.username,\n",
    "            'display_name':dAcc.display_name,\n",
    "            'acct':dAcc.acct,\n",
    "            'created_at':dAcc.created_at.strftime('%Y-%m-%d'),\n",
    "            'statuses_count':dAcc.statuses_count,\n",
    "            'followers_count':dAcc.followers_count,\n",
    "            'following_count':dAcc.following_count,\n",
    "            'discoverable':dAcc.discoverable,\n",
    "            'locked':dAcc.locked,\n",
    "            'group':dAcc.group,\n",
    "            'bot':dAcc.bot,\n",
    "            'url':dAcc.url,\n",
    "            'note':dAcc.note,\n",
    "\n",
    "        }\n",
    "        if dAcc.last_status_at is not None:\n",
    "            dAcc['last_status_at']=dAcc.last_status_at.strftime('%Y-%m-%d')\n",
    "        lFollow.append(dA)"
   ]
  },
  {
   "cell_type": "markdown",
   "metadata": {},
   "source": [
    "convert following account data to list and use pagination to iterate through all accounts"
   ]
  },
  {
   "cell_type": "code",
   "execution_count": null,
   "metadata": {},
   "outputs": [],
   "source": [
    "lFollow=[]\n",
    "try:\n",
    "    while (lFollowing is not None):\n",
    "        addAccountToDict(lFollowing,lFollow)\n",
    "        lFollowingNext=oMstdn.fetch_next(lFollowing)\n",
    "        if iVerbose>20:\n",
    "            print(len(lFollowingNext))\n",
    "        lFollowing=lFollowingNext\n",
    "        time.sleep(0.1+random.random()*0.25)\n",
    "except:\n",
    "    print(traceback.format_exc())\n",
    "\n",
    "if iVerbose>0:\n",
    "    print('following count:%d'%(len(lFollow)))\n",
    "if iVerbose>20:\n",
    "    pprint.pp(lFollow[:5])"
   ]
  },
  {
   "cell_type": "code",
   "execution_count": null,
   "metadata": {},
   "outputs": [],
   "source": [
    "print('following count:%d'%(len(lFollow)))"
   ]
  },
  {
   "cell_type": "code",
   "execution_count": null,
   "metadata": {},
   "outputs": [],
   "source": [
    "def applyFmt(oExcelWr,sSht,lCol):\n",
    "    oBok=oExcelWr.book\n",
    "    oSht=oExcelWr.sheets[sSht]\n",
    "    oFmt=oBok.add_format({\n",
    "                        'text_wrap':False,\n",
    "                        'align':'left',\n",
    "                        'valign':'top',\n",
    "                        })\n",
    "    for sAdr,iWidth in lCol:\n",
    "        oSht.set_column(sAdr,iWidth,oFmt)"
   ]
  },
  {
   "cell_type": "code",
   "execution_count": null,
   "metadata": {},
   "outputs": [],
   "source": [
    "lCol=[\n",
    "    ('A:A',25),\n",
    "    ('B:C',20),\n",
    "    ('D:D',40),\n",
    "    ('E:E',15),\n",
    "    ('F:H',8),\n",
    "    ('I:L',8),\n",
    "    ('M:M',15),\n",
    "    ('N:N',15),\n",
    "]"
   ]
  },
  {
   "cell_type": "code",
   "execution_count": null,
   "metadata": {},
   "outputs": [],
   "source": [
    "lColDays=[\n",
    "    ('A:A',25),\n",
    "    ('B:B',50),\n",
    "    ('C:C',15),\n",
    "    ('D:D',10),\n",
    "    ('E:F',15),\n",
    "\n",
    "]"
   ]
  },
  {
   "cell_type": "code",
   "execution_count": null,
   "metadata": {},
   "outputs": [],
   "source": [
    "dfFollowing=pandas.DataFrame(data=lFollow,index=None,\n",
    "        dtype='string')"
   ]
  },
  {
   "cell_type": "code",
   "execution_count": null,
   "metadata": {},
   "outputs": [],
   "source": [
    "dfFollowing['statuses_count']=pandas.to_numeric(dfFollowing['statuses_count'])\n",
    "dfFollowing['followers_count']=pandas.to_numeric(dfFollowing['followers_count'])\n",
    "dfFollowing['following_count']=pandas.to_numeric(dfFollowing['following_count'])"
   ]
  },
  {
   "cell_type": "code",
   "execution_count": null,
   "metadata": {},
   "outputs": [],
   "source": [
    "zToDay=datetime.date.today()"
   ]
  },
  {
   "cell_type": "code",
   "execution_count": null,
   "metadata": {},
   "outputs": [],
   "source": [
    "dfFollowing.head()"
   ]
  },
  {
   "cell_type": "code",
   "execution_count": null,
   "metadata": {},
   "outputs": [],
   "source": [
    "def calcDys(x):\n",
    "    try:\n",
    "        zCreate=datetime.date.fromisoformat(x['created_at'])\n",
    "        oDiff=zToDay-zCreate\n",
    "        iDy=oDiff.days\n",
    "        x['dys']=iDy\n",
    "        x['status_per_day']=x['statuses_count']/iDy\n",
    "        return x\n",
    "    except:\n",
    "        x['dys']=-1\n",
    "        return x"
   ]
  },
  {
   "cell_type": "code",
   "execution_count": null,
   "metadata": {},
   "outputs": [],
   "source": [
    "dfDaysTmp=dfFollowing.apply(calcDys,axis=1)"
   ]
  },
  {
   "cell_type": "code",
   "execution_count": null,
   "metadata": {},
   "outputs": [],
   "source": [
    "dfDaysTmp.sort_values(['status_per_day'],inplace=True,ascending=False)"
   ]
  },
  {
   "cell_type": "code",
   "execution_count": null,
   "metadata": {},
   "outputs": [],
   "source": [
    "dfDays=dfDaysTmp[['id','acct','status_per_day','dys','statuses_count','group']]"
   ]
  },
  {
   "cell_type": "code",
   "execution_count": null,
   "metadata": {},
   "outputs": [],
   "source": [
    "dfDays.head()"
   ]
  },
  {
   "cell_type": "code",
   "execution_count": null,
   "metadata": {},
   "outputs": [],
   "source": [
    "dfFollowing.sort_values(['username'],inplace=True)"
   ]
  },
  {
   "cell_type": "markdown",
   "metadata": {},
   "source": [
    "write following information"
   ]
  },
  {
   "cell_type": "code",
   "execution_count": null,
   "metadata": {},
   "outputs": [],
   "source": [
    "with pandas.ExcelWriter(sOutFN,mode='w') as oXlsWr:\n",
    "    dfFollowing.to_excel(oXlsWr,sheet_name=sSht,index=False)\n",
    "    applyFmt(oXlsWr,sSht,lCol)\n",
    "    if sShtDays is not None:\n",
    "        dfDays.to_excel(oXlsWr,sheet_name=sShtDays,index=False)\n",
    "        applyFmt(oXlsWr,sShtDays,lColDays)"
   ]
  },
  {
   "cell_type": "markdown",
   "metadata": {},
   "source": [
    "find mute accounts, those not tooting"
   ]
  },
  {
   "cell_type": "code",
   "execution_count": null,
   "metadata": {},
   "outputs": [],
   "source": [
    "dfMute=dfFollowing[dfFollowing['statuses_count']<=iLimitMute]"
   ]
  },
  {
   "cell_type": "code",
   "execution_count": null,
   "metadata": {},
   "outputs": [],
   "source": [
    "print(dfMute.shape)"
   ]
  },
  {
   "cell_type": "markdown",
   "metadata": {},
   "source": [
    "unfollow account not tooting"
   ]
  },
  {
   "cell_type": "code",
   "execution_count": null,
   "metadata": {},
   "outputs": [],
   "source": [
    "if iLimitMute>=0:\n",
    "    for iOfs,oRow in dfMute.iterrows():\n",
    "        print(iOfs,oRow['id'])\n",
    "        oMstdn.account_unfollow(oRow['id'])"
   ]
  },
  {
   "cell_type": "markdown",
   "metadata": {},
   "source": [
    "find individuals"
   ]
  },
  {
   "cell_type": "code",
   "execution_count": null,
   "metadata": {},
   "outputs": [],
   "source": [
    "dfIndividuals=dfDays[dfDays['group']=='False']"
   ]
  },
  {
   "cell_type": "markdown",
   "metadata": {},
   "source": [
    "find too loud individuals"
   ]
  },
  {
   "cell_type": "code",
   "execution_count": null,
   "metadata": {},
   "outputs": [],
   "source": [
    "dfLoud=dfIndividuals[dfIndividuals['status_per_day']>iLimitLoud]"
   ]
  },
  {
   "cell_type": "code",
   "execution_count": null,
   "metadata": {},
   "outputs": [],
   "source": [
    "dfLoud.shape"
   ]
  },
  {
   "cell_type": "markdown",
   "metadata": {},
   "source": [
    "unfollowing too loud individuals"
   ]
  },
  {
   "cell_type": "code",
   "execution_count": null,
   "metadata": {},
   "outputs": [],
   "source": [
    "if iLimitLoud>0:\n",
    "    for iOfs,oRow in dfLoud.iterrows():\n",
    "        print(iOfs,oRow['id'])\n",
    "        oMstdn.account_unfollow(oRow['id'])"
   ]
  }
 ],
 "metadata": {
  "kernelspec": {
   "display_name": "Python 3.10.7 64-bit",
   "language": "python",
   "name": "python3"
  },
  "language_info": {
   "codemirror_mode": {
    "name": "ipython",
    "version": 3
   },
   "file_extension": ".py",
   "mimetype": "text/x-python",
   "name": "python",
   "nbconvert_exporter": "python",
   "pygments_lexer": "ipython3",
   "version": "3.11.0"
  },
  "orig_nbformat": 4,
  "vscode": {
   "interpreter": {
    "hash": "e7370f93d1d0cde622a1f8e1c04877d8463912d04d973331ad4851f04de6915a"
   }
  }
 },
 "nbformat": 4,
 "nbformat_minor": 2
}
