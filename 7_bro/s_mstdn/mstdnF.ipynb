{
 "cells": [
  {
   "cell_type": "markdown",
   "metadata": {},
   "source": [
    "# mastodon API\n",
    "\n",
    "read data of accounts you are following and store it in excel file.\n",
    "\n",
    "+ utilizes `Mastodon.py` package to read account information\n",
    "+ `pandas` is used to create excel file"
   ]
  },
  {
   "cell_type": "markdown",
   "metadata": {},
   "source": [
    "\n",
    "background links, references\n",
    "\n",
    "+ [Mastodon.py](https://pypi.org/project/Mastodon.py/)\n",
    "  + [pypi](https://pypi.org/project/Mastodon.py/)\n",
    "  + [doc](https://mastodonpy.readthedocs.io/en/stable/)\n",
    "  + [repo](https://github.com/halcy/Mastodon.py)\n",
    "+ [mastodon](https://joinmastodon.org/)\n",
    "  + [API getting started](https://docs.joinmastodon.org/client/intro/)\n",
    "  + [pagination](https://docs.joinmastodon.org/api/guidelines/#pagination)\n",
    "\n",
    "**setup**\n",
    "\n",
    "```shell\n",
    "pip install -r requirements.txt\n",
    "```"
   ]
  },
  {
   "cell_type": "code",
   "execution_count": null,
   "metadata": {},
   "outputs": [],
   "source": [
    "sSecretFN='.env.py.secret'"
   ]
  },
  {
   "cell_type": "markdown",
   "metadata": {},
   "source": [
    "create an access token through profile, go to `</> Development`\n",
    "\n",
    "+ `New Application`\n",
    "  + provide meaningful application name\n",
    "  + define scopes, grant permission for application\n",
    "  + `submit`\n",
    "+ click on application name\n",
    "  + copy value of `your access token`\n",
    "  + store it to file `sSecretFN`\n",
    "  + `save changes`\n",
    "\n",
    "minimal content of `sSecretFN`\n",
    "\n",
    "```\n",
    "access_token=\"<your access token>\"\n",
    "api_base_url=\"https://<instance name>\"\n",
    "```\n"
   ]
  },
  {
   "cell_type": "markdown",
   "metadata": {},
   "source": [
    "create an access token through python, do this only once\n",
    "\n",
    "```python\n",
    "from mastodon import Mastodon\n",
    "\n",
    "oMstdn = Mastodon(\n",
    "    client_id = '<your app>',\n",
    "    api_base_url = 'https://<your instance>'\n",
    ")\n",
    "oMstdn.log_in(\n",
    "    'youremail',\n",
    "    'superseretpasswork',\n",
    "    to_file = '.env.py.secret'\n",
    ")\n",
    "```"
   ]
  },
  {
   "cell_type": "markdown",
   "metadata": {},
   "source": [
    "**THE MIT license (MIT)**\n",
    "\n",
    "Copyright © 2022 Walter Obweger (WRO)\n",
    "\n",
    "Permission is hereby granted, free of charge, to any person obtaining a copy of this software and associated documentation files (the “Software”), to deal in the Software without restriction, including without limitation the rights to use, copy, modify, merge, publish, distribute, sublicense, and/or sell copies of the Software, and to permit persons to whom the Software is furnished to do so, subject to the following conditions:\n",
    "\n",
    "The above copyright notice and this permission notice shall be included in all copies or substantial portions of the Software.\n",
    "\n",
    "THE SOFTWARE IS PROVIDED “AS IS”, WITHOUT WARRANTY OF ANY KIND, EXPRESS OR IMPLIED, INCLUDING BUT NOT LIMITED TO THE WARRANTIES OF MERCHANTABILITY, FITNESS FOR A PARTICULAR PURPOSE AND NONINFRINGEMENT. IN NO EVENT SHALL THE AUTHORS OR COPYRIGHT HOLDERS BE LIABLE FOR ANY CLAIM, DAMAGES OR OTHER LIABILITY, WHETHER IN AN ACTION OF CONTRACT, TORT OR OTHERWISE, ARISING FROM, OUT OF OR IN CONNECTION WITH THE SOFTWARE OR THE USE OR OTHER DEALINGS IN THE SOFTWARE."
   ]
  },
  {
   "cell_type": "code",
   "execution_count": null,
   "metadata": {},
   "outputs": [],
   "source": [
    "import pandas\n",
    "import time"
   ]
  },
  {
   "cell_type": "code",
   "execution_count": null,
   "metadata": {},
   "outputs": [],
   "source": [
    "import pprint\n",
    "import traceback\n",
    "import random"
   ]
  },
  {
   "cell_type": "code",
   "execution_count": null,
   "metadata": {},
   "outputs": [],
   "source": [
    "dfFollows=pandas.read_csv('~/Downloads/following_accounts.csv')"
   ]
  },
  {
   "cell_type": "code",
   "execution_count": null,
   "metadata": {},
   "outputs": [],
   "source": [
    "dfFollows.head()"
   ]
  },
  {
   "cell_type": "code",
   "execution_count": null,
   "metadata": {},
   "outputs": [],
   "source": [
    "dfAcc=dfFollows.set_index(keys=['Account address'])"
   ]
  },
  {
   "cell_type": "code",
   "execution_count": null,
   "metadata": {},
   "outputs": [],
   "source": [
    "srAcc=dfFollows['Account address']"
   ]
  },
  {
   "cell_type": "code",
   "execution_count": null,
   "metadata": {},
   "outputs": [],
   "source": [
    "lAcc=list(srAcc)"
   ]
  },
  {
   "cell_type": "code",
   "execution_count": null,
   "metadata": {},
   "outputs": [],
   "source": [
    "dfAcc.head()"
   ]
  },
  {
   "cell_type": "code",
   "execution_count": null,
   "metadata": {},
   "outputs": [],
   "source": [
    "dfHist=pandas.read_excel('~/Downloads/Histodons.xlsx',\n",
    "                header=None,\n",
    "                names=['zTime','name','account','interest','area','research','description','list','twitter','mastodonURL'],\n",
    "                skiprows=11)"
   ]
  },
  {
   "cell_type": "code",
   "execution_count": null,
   "metadata": {},
   "outputs": [],
   "source": [
    "dfHist.head()"
   ]
  },
  {
   "cell_type": "code",
   "execution_count": null,
   "metadata": {},
   "outputs": [],
   "source": [
    "lAccToAdd=[]\n",
    "for iIdx,oItem in dfHist.iterrows():\n",
    "    sAccount=oItem['account']\n",
    "    if sAccount.startswith('@'):\n",
    "        sAccount=sAccount[1:]\n",
    "    if sAccount in lAcc:\n",
    "        continue\n",
    "    else:\n",
    "        dNewAcc={\n",
    "            'Account address':sAccount,\n",
    "            'Show boosts':True,\n",
    "            'Notify on new posts':False,\n",
    "            'Languages':None,\n",
    "        }\n",
    "        lAccToAdd.append(dNewAcc)"
   ]
  },
  {
   "cell_type": "code",
   "execution_count": null,
   "metadata": {},
   "outputs": [],
   "source": [
    "pprint.pp(lAccToAdd)"
   ]
  },
  {
   "cell_type": "code",
   "execution_count": null,
   "metadata": {},
   "outputs": [],
   "source": [
    "dfNewAcc=pandas.DataFrame.from_dict(lAccToAdd)"
   ]
  },
  {
   "cell_type": "code",
   "execution_count": null,
   "metadata": {},
   "outputs": [],
   "source": [
    "dfNewAcc=pandas.DataFrame(lAccToAdd,columns=['Account address','Show boosts','Notify on new posts','Languages'])"
   ]
  },
  {
   "cell_type": "code",
   "execution_count": null,
   "metadata": {},
   "outputs": [],
   "source": [
    "dfNewAcc.head()"
   ]
  },
  {
   "cell_type": "code",
   "execution_count": null,
   "metadata": {},
   "outputs": [],
   "source": [
    "dfFollowsNew=pandas.concat([dfFollows,dfNewAcc],axis=0,ignore_index=True)"
   ]
  },
  {
   "cell_type": "code",
   "execution_count": null,
   "metadata": {},
   "outputs": [],
   "source": [
    "print(dfFollowsNew.shape)"
   ]
  },
  {
   "cell_type": "code",
   "execution_count": null,
   "metadata": {},
   "outputs": [],
   "source": [
    "dfFollowsNew.to_csv('~/Downloads/following_accounts_new.csv')"
   ]
  },
  {
   "cell_type": "code",
   "execution_count": null,
   "metadata": {},
   "outputs": [],
   "source": [
    "from mastodon import Mastodon\n",
    "from dotenv import load_dotenv\n",
    "import os"
   ]
  },
  {
   "cell_type": "code",
   "execution_count": null,
   "metadata": {},
   "outputs": [],
   "source": [
    "iVerbose=20"
   ]
  },
  {
   "cell_type": "code",
   "execution_count": null,
   "metadata": {},
   "outputs": [],
   "source": [
    "load_dotenv(\".env.pyB.secret\")\n",
    "print(os.environ.get('api_base_url'))"
   ]
  },
  {
   "cell_type": "code",
   "execution_count": null,
   "metadata": {},
   "outputs": [],
   "source": [
    "oMstdn = Mastodon(\n",
    "    access_token = os.environ.get('access_token'),\n",
    "    api_base_url = os.environ.get('api_base_url')\n",
    ")"
   ]
  },
  {
   "cell_type": "code",
   "execution_count": null,
   "metadata": {},
   "outputs": [],
   "source": [
    "sVer=oMstdn.retrieve_mastodon_version()\n",
    "print(sVer)"
   ]
  },
  {
   "cell_type": "code",
   "execution_count": null,
   "metadata": {},
   "outputs": [],
   "source": [
    "dMe=oMstdn.me()"
   ]
  },
  {
   "cell_type": "code",
   "execution_count": null,
   "metadata": {},
   "outputs": [],
   "source": [
    "pprint.pp(dMe)"
   ]
  },
  {
   "cell_type": "code",
   "execution_count": null,
   "metadata": {},
   "outputs": [],
   "source": [
    "print(dMe.id)"
   ]
  },
  {
   "cell_type": "code",
   "execution_count": null,
   "metadata": {},
   "outputs": [],
   "source": [
    "dMe.created_at.strftime('%Y-%m-%d')"
   ]
  },
  {
   "cell_type": "code",
   "execution_count": null,
   "metadata": {},
   "outputs": [],
   "source": [
    "print(dMe.url)"
   ]
  },
  {
   "cell_type": "code",
   "execution_count": null,
   "metadata": {},
   "outputs": [],
   "source": [
    "lFollowing=oMstdn.account_following(dMe.id)"
   ]
  },
  {
   "cell_type": "code",
   "execution_count": null,
   "metadata": {},
   "outputs": [],
   "source": [
    "print(list(lFollowing[0].keys()))"
   ]
  },
  {
   "cell_type": "code",
   "execution_count": null,
   "metadata": {},
   "outputs": [],
   "source": [
    "def addAccountToDict(lFollowing,dFollowing,lFollow):\n",
    "    for dAcc in lFollowing:\n",
    "        dFollowing[dAcc.id]=dAcc.url\n",
    "        dFollowing[dAcc.url]=dAcc.id\n",
    "        dA={\n",
    "            'id':dAcc.id,\n",
    "            'username':dAcc.username,\n",
    "            'display_name':dAcc.display_name,\n",
    "            'acct':dAcc.acct,\n",
    "            'created_at':dAcc.created_at.strftime('%Y-%m-%d'),\n",
    "            'statuses_count':dAcc.statuses_count,\n",
    "            'followers_count':dAcc.followers_count,\n",
    "            'following_count':dAcc.following_count,\n",
    "            'discoverable':dAcc.discoverable,\n",
    "            'locked':dAcc.locked,\n",
    "            'group':dAcc.group,\n",
    "            'bot':dAcc.bot,\n",
    "            'note':dAcc.note,\n",
    "            'url':dAcc.url,\n",
    "            'header':dAcc.header,\n",
    "\n",
    "        }\n",
    "        if dAcc.last_status_at is not None:\n",
    "            dAcc['last_status_at']=dAcc.last_status_at.strftime('%Y-%m-%d')\n",
    "        lFollow.append(dA)"
   ]
  },
  {
   "cell_type": "code",
   "execution_count": null,
   "metadata": {},
   "outputs": [],
   "source": [
    "dFollowing={}\n",
    "lFollow=[]\n",
    "try:\n",
    "    while (lFollowing is not None):\n",
    "        addAccountToDict(lFollowing,dFollowing,lFollow)\n",
    "        lFollowingNext=oMstdn.fetch_next(lFollowing)\n",
    "        if iVerbose>20:\n",
    "            print(len(lFollowingNext))\n",
    "        lFollowing=lFollowingNext\n",
    "        time.sleep(0.1+random.random()*0.25)\n",
    "except:\n",
    "    print(traceback.format_exc())\n",
    "\n",
    "if iVerbose>0:\n",
    "    print('following count:%d'%(len(dFollowing)))\n",
    "if iVerbose>20:\n",
    "    pprint.pp(dFollowing)"
   ]
  },
  {
   "cell_type": "code",
   "execution_count": null,
   "metadata": {},
   "outputs": [],
   "source": [
    "print('following count:%d'%(len(lFollow)))"
   ]
  },
  {
   "cell_type": "code",
   "execution_count": null,
   "metadata": {},
   "outputs": [],
   "source": [
    "dfFollowing=pandas.DataFrame(data=lFollow,index=None,dtype='string')"
   ]
  },
  {
   "cell_type": "code",
   "execution_count": null,
   "metadata": {},
   "outputs": [],
   "source": [
    "with pandas.ExcelWriter('mstdnF.out.xlsx',mode='w') as oXlsWr:\n",
    "    dfFollowing.to_excel(oXlsWr,sheet_name='following',index=False)"
   ]
  },
  {
   "cell_type": "code",
   "execution_count": null,
   "metadata": {},
   "outputs": [],
   "source": [
    "def doSearchAccount(lAcc,dFollowing={},lAccToFollow=[],iVerbose=0):\n",
    "    for dAcc in lAcc:\n",
    "        iId=dAcc.id\n",
    "        if iId in dFollowing:\n",
    "            continue \n",
    "        else:\n",
    "            sUrl=dAcc.url\n",
    "            if sUrl in dFollowing:\n",
    "                continue \n",
    "            else:\n",
    "                if iVerbose>10:\n",
    "                    print(sUrl,\"not in dFollowing\")\n",
    "                lAccToFollow.append(dAcc.acct)\n",
    "                if iVerbose>0:\n",
    "                    print('new account to follow %s'%(dAcc.acct))\n",
    "    return lAccToFollow"
   ]
  },
  {
   "cell_type": "code",
   "execution_count": null,
   "metadata": {},
   "outputs": [],
   "source": [
    "lAccToFollow=[]\n",
    "for iIdx,oItem in dfHist.iterrows():\n",
    "    sAccount=oItem['account']\n",
    "    if iVerbose>10:\n",
    "        print(sAccount)\n",
    "    dSearch=oMstdn.search(sAccount)\n",
    "    if 'accounts' in dSearch:\n",
    "        doSearchAccount(dSearch['accounts'],\n",
    "                    dFollowing=dFollowing,\n",
    "                    lAccToFollow=lAccToFollow,\n",
    "                    iVerbose=iVerbose)"
   ]
  },
  {
   "cell_type": "code",
   "execution_count": null,
   "metadata": {},
   "outputs": [],
   "source": [
    "list(dFollowing.keys())"
   ]
  },
  {
   "cell_type": "code",
   "execution_count": null,
   "metadata": {},
   "outputs": [],
   "source": [
    "pprint.pp(lAccToFollow)"
   ]
  },
  {
   "cell_type": "code",
   "execution_count": null,
   "metadata": {},
   "outputs": [],
   "source": [
    "sAccount=dfHist['account'].iloc[1]\n",
    "print(sAccount)"
   ]
  },
  {
   "cell_type": "code",
   "execution_count": null,
   "metadata": {},
   "outputs": [],
   "source": [
    "dRet=oMstdn.search(sAccount)"
   ]
  },
  {
   "cell_type": "code",
   "execution_count": null,
   "metadata": {},
   "outputs": [],
   "source": [
    "pprint.pprint(dRet)"
   ]
  },
  {
   "cell_type": "code",
   "execution_count": null,
   "metadata": {},
   "outputs": [],
   "source": [
    "iId=dRet['accounts'][0]['id']\n",
    "print(iId)"
   ]
  },
  {
   "cell_type": "code",
   "execution_count": null,
   "metadata": {},
   "outputs": [],
   "source": [
    "print(dRet['accounts'][0]['acct'])"
   ]
  },
  {
   "cell_type": "code",
   "execution_count": null,
   "metadata": {},
   "outputs": [],
   "source": [
    "dRet2=oMstdn.account_follow(dRet['accounts'][0]['id'])\n",
    "#dRet=oMstdn.account_follow(dRet['accounts'][0]['url'])\n",
    "pprint.pprint(dRet2)"
   ]
  },
  {
   "cell_type": "code",
   "execution_count": null,
   "metadata": {},
   "outputs": [],
   "source": [
    "dRet3=oMstdn.account_follow(dRet['accounts'][0]['id'],reblogs=True)\n"
   ]
  },
  {
   "cell_type": "code",
   "execution_count": null,
   "metadata": {},
   "outputs": [],
   "source": [
    "dRet4=oMstdn.follows(sAccount[1:])\n",
    "#dRet=oMstdn.follows(dRet['accounts'][1]['url'])\n",
    "print(dRet4)"
   ]
  },
  {
   "cell_type": "code",
   "execution_count": null,
   "metadata": {},
   "outputs": [],
   "source": [
    "dRet2=oMstdn.status_reply(to_status=dRet,status='reply to toot',in_reply_to_id=dRet['id'])"
   ]
  },
  {
   "cell_type": "code",
   "execution_count": null,
   "metadata": {},
   "outputs": [],
   "source": [
    "dRet3=oMstdn.status_favourite(dRet2)"
   ]
  },
  {
   "cell_type": "code",
   "execution_count": null,
   "metadata": {},
   "outputs": [],
   "source": [
    "dRet=oMstdn.trends(limit=5)"
   ]
  },
  {
   "cell_type": "code",
   "execution_count": null,
   "metadata": {},
   "outputs": [],
   "source": [
    "print(dRet)"
   ]
  },
  {
   "cell_type": "code",
   "execution_count": null,
   "metadata": {},
   "outputs": [],
   "source": [
    "dRet=oMstdn.search_v2(\"tags/digitalhumanities\")"
   ]
  },
  {
   "cell_type": "code",
   "execution_count": null,
   "metadata": {},
   "outputs": [],
   "source": [
    "print(dRet)"
   ]
  }
 ],
 "metadata": {
  "kernelspec": {
   "display_name": "Python 3.10.7 64-bit",
   "language": "python",
   "name": "python3"
  },
  "language_info": {
   "codemirror_mode": {
    "name": "ipython",
    "version": 3
   },
   "file_extension": ".py",
   "mimetype": "text/x-python",
   "name": "python",
   "nbconvert_exporter": "python",
   "pygments_lexer": "ipython3",
   "version": "3.11.0"
  },
  "orig_nbformat": 4,
  "vscode": {
   "interpreter": {
    "hash": "e7370f93d1d0cde622a1f8e1c04877d8463912d04d973331ad4851f04de6915a"
   }
  }
 },
 "nbformat": 4,
 "nbformat_minor": 2
}
