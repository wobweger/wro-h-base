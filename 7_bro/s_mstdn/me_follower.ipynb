{
 "cells": [
  {
   "cell_type": "markdown",
   "metadata": {},
   "source": [
    "# mastodon API followers\n",
    "\n",
    "read data of accounts you are following and store it in excel file.\n",
    "\n",
    "+ utilizes `Mastodon.py` package to read account information\n",
    "+ `pandas` is used to create excel file\n",
    "  + sheet for accounts following\n",
    "  + sheet for status per day, find loud and mute accounts\n",
    "+ read follower data\n",
    "+ calculate metrics\n",
    "  + total followers\n",
    "  + lost followers\n",
    "  + gained followers\n",
    "  + changes on followers status, follows and followers\n",
    "+ write/update excel file overview and total followers\n",
    "+ write follower changes excel file"
   ]
  },
  {
   "cell_type": "markdown",
   "metadata": {},
   "source": [
    "\n",
    "background links, references\n",
    "\n",
    "+ [Mastodon.py](https://pypi.org/project/Mastodon.py/)\n",
    "  + [pypi](https://pypi.org/project/Mastodon.py/)\n",
    "  + [doc](https://mastodonpy.readthedocs.io/en/stable/)\n",
    "  + [repo](https://github.com/halcy/Mastodon.py)\n",
    "+ [mastodon](https://joinmastodon.org/)\n",
    "  + [API getting started](https://docs.joinmastodon.org/client/intro/)\n",
    "  + [pagination](https://docs.joinmastodon.org/api/guidelines/#pagination)\n",
    "\n",
    "**setup**\n",
    "\n",
    "```shell\n",
    "pip install -r requirements.txt\n",
    "```"
   ]
  },
  {
   "cell_type": "markdown",
   "metadata": {},
   "source": [
    "**THE MIT license (MIT)**\n",
    "\n",
    "Copyright © 2022 Walter Obweger (WRO)\n",
    "\n",
    "Permission is hereby granted, free of charge, to any person obtaining a copy of this software and associated documentation files (the “Software”), to deal in the Software without restriction, including without limitation the rights to use, copy, modify, merge, publish, distribute, sublicense, and/or sell copies of the Software, and to permit persons to whom the Software is furnished to do so, subject to the following conditions:\n",
    "\n",
    "The above copyright notice and this permission notice shall be included in all copies or substantial portions of the Software.\n",
    "\n",
    "THE SOFTWARE IS PROVIDED “AS IS”, WITHOUT WARRANTY OF ANY KIND, EXPRESS OR IMPLIED, INCLUDING BUT NOT LIMITED TO THE WARRANTIES OF MERCHANTABILITY, FITNESS FOR A PARTICULAR PURPOSE AND NONINFRINGEMENT. IN NO EVENT SHALL THE AUTHORS OR COPYRIGHT HOLDERS BE LIABLE FOR ANY CLAIM, DAMAGES OR OTHER LIABILITY, WHETHER IN AN ACTION OF CONTRACT, TORT OR OTHERWISE, ARISING FROM, OUT OF OR IN CONNECTION WITH THE SOFTWARE OR THE USE OR OTHER DEALINGS IN THE SOFTWARE."
   ]
  },
  {
   "cell_type": "code",
   "execution_count": null,
   "metadata": {},
   "outputs": [],
   "source": [
    "sSecretFN='.env.py.secret'\n",
    "sOutFN='me.xlsx'\n",
    "sShtMtr='metric'\n",
    "sShtFlr='follower'"
   ]
  },
  {
   "cell_type": "code",
   "execution_count": null,
   "metadata": {},
   "outputs": [],
   "source": [
    "lColMtr=['zStamp','iStatus','iFollows','iFollower']\n",
    "lColMtrFmt=[\n",
    "    ('A:A',20),\n",
    "    ('B:D',8),\n",
    "\n",
    "]"
   ]
  },
  {
   "cell_type": "code",
   "execution_count": null,
   "metadata": {},
   "outputs": [],
   "source": [
    "lColFlr=['id','acct','username','iStatus','iFollows','iFollower']\n",
    "lColFlrFmt=[\n",
    "    ('A:A',30),\n",
    "    ('B:B',30),\n",
    "    ('C:C',40),\n",
    "    ('D:F',8),\n",
    "\n",
    "]"
   ]
  },
  {
   "cell_type": "code",
   "execution_count": null,
   "metadata": {},
   "outputs": [],
   "source": [
    "lColFlrSame=['id','acct','username','iStatus','iStatusPrv','iStatusDt','iFollows','iFollowsPrv','iFollowsDt','iFollower','iFollowerPrv','iFollowerDt',]\n",
    "lColFlrSameFmt=[\n",
    "    ('A:A',30),\n",
    "    ('B:B',30),\n",
    "    ('C:C',40),\n",
    "    ('D:F',8),\n",
    "    ('G:I',8),\n",
    "    ('J:L',8),\n",
    "\n",
    "]"
   ]
  },
  {
   "cell_type": "code",
   "execution_count": null,
   "metadata": {},
   "outputs": [],
   "source": [
    "import os\n",
    "import time\n",
    "import datetime\n",
    "import pprint\n",
    "import traceback\n",
    "import random\n",
    "import pandas\n",
    "\n",
    "from dotenv import load_dotenv\n",
    "from mastodon import Mastodon"
   ]
  },
  {
   "cell_type": "code",
   "execution_count": null,
   "metadata": {},
   "outputs": [],
   "source": [
    "dfMtr=None\n",
    "dfFlr=None\n",
    "if os.path.exists(sOutFN):\n",
    "    oWrk=pandas.ExcelFile(sOutFN)\n",
    "    if sShtMtr in oWrk.sheet_names:\n",
    "        dfMtr=oWrk.parse(sShtMtr)\n",
    "    if sShtFlr in oWrk.sheet_names:\n",
    "        dfFlr=oWrk.parse(sShtFlr)\n",
    "if dfMtr is None:\n",
    "    dfMtr=pandas.DataFrame(columns=lColMtr)\n",
    "if dfFlr is None:\n",
    "    dfFlr=pandas.DataFrame(columns=lColFlr)"
   ]
  },
  {
   "cell_type": "code",
   "execution_count": null,
   "metadata": {},
   "outputs": [],
   "source": [
    "iVerbose=20"
   ]
  },
  {
   "cell_type": "code",
   "execution_count": null,
   "metadata": {},
   "outputs": [],
   "source": [
    "zNow=datetime.datetime.now()"
   ]
  },
  {
   "cell_type": "code",
   "execution_count": null,
   "metadata": {},
   "outputs": [],
   "source": [
    "load_dotenv(sSecretFN)\n",
    "print(os.environ.get('api_base_url'))"
   ]
  },
  {
   "cell_type": "code",
   "execution_count": null,
   "metadata": {},
   "outputs": [],
   "source": [
    "oMstdn = Mastodon(\n",
    "    access_token = os.environ.get('access_token'),\n",
    "    api_base_url = os.environ.get('api_base_url')\n",
    ")"
   ]
  },
  {
   "cell_type": "code",
   "execution_count": null,
   "metadata": {},
   "outputs": [],
   "source": [
    "sVer=oMstdn.retrieve_mastodon_version()\n",
    "print(sVer)"
   ]
  },
  {
   "cell_type": "code",
   "execution_count": null,
   "metadata": {},
   "outputs": [],
   "source": [
    "dMe=oMstdn.me()"
   ]
  },
  {
   "cell_type": "code",
   "execution_count": null,
   "metadata": {},
   "outputs": [],
   "source": [
    "print(list(dMe.keys()))"
   ]
  },
  {
   "cell_type": "markdown",
   "metadata": {},
   "source": [
    "add processing here"
   ]
  },
  {
   "cell_type": "code",
   "execution_count": null,
   "metadata": {},
   "outputs": [],
   "source": [
    "dMtr={\n",
    "    'zStamp':zNow.strftime('%Y-%m-%d %H:%M'),\n",
    "    'iStatus':dMe['statuses_count'],\n",
    "    'iFollower':dMe['followers_count'],\n",
    "    'iFollows':dMe['following_count'],\n",
    "\n",
    "}\n",
    "dfMtrTmp=pandas.DataFrame(data=[dMtr])"
   ]
  },
  {
   "cell_type": "code",
   "execution_count": null,
   "metadata": {},
   "outputs": [],
   "source": [
    "dfMtr=pandas.concat([dfMtr,dfMtrTmp],ignore_index=True)"
   ]
  },
  {
   "cell_type": "code",
   "execution_count": null,
   "metadata": {},
   "outputs": [],
   "source": [
    "dfMtr.tail()"
   ]
  },
  {
   "cell_type": "markdown",
   "metadata": {},
   "source": [
    "**follower**\n",
    "\n",
    "iterate over all followers\n",
    "\n",
    "+ build total ever followers\n",
    "+ calc same followers and their changes\n",
    "+ calc lost followers\n",
    "+ calc gained followers"
   ]
  },
  {
   "cell_type": "code",
   "execution_count": null,
   "metadata": {},
   "outputs": [],
   "source": [
    "lFlr=[]"
   ]
  },
  {
   "cell_type": "code",
   "execution_count": null,
   "metadata": {},
   "outputs": [],
   "source": [
    "def addFollower(lFollower,lFlr):\n",
    "    for dFollower in lFollower:\n",
    "        dFlr={\n",
    "            'id':dFollower.id,\n",
    "            'acct':dFollower.acct,\n",
    "            'username':dFollower.username,\n",
    "            'iStatus':dFollower.statuses_count,\n",
    "            'iFollower':dFollower.followers_count,\n",
    "            'iFollows':dFollower.following_count,\n",
    "        }\n",
    "        lFlr.append(dFlr)"
   ]
  },
  {
   "cell_type": "code",
   "execution_count": null,
   "metadata": {},
   "outputs": [],
   "source": [
    "lFollower=oMstdn.account_followers(dMe.id)"
   ]
  },
  {
   "cell_type": "code",
   "execution_count": null,
   "metadata": {},
   "outputs": [],
   "source": [
    "try:\n",
    "    while (lFollower is not None):\n",
    "        addFollower(lFollower,lFlr)\n",
    "        lFollowerNext=oMstdn.fetch_next(lFollower)\n",
    "        if iVerbose>20:\n",
    "            print(len(lFollowerNext))\n",
    "        lFollower=lFollowerNext\n",
    "        time.sleep(0.1+random.random()*0.25)\n",
    "except:\n",
    "    print(traceback.format_exc())\n",
    "if iVerbose>0:\n",
    "    print('follower count:%d'%(len(lFlr)))"
   ]
  },
  {
   "cell_type": "code",
   "execution_count": null,
   "metadata": {},
   "outputs": [],
   "source": [
    "dfFlrTmp=pandas.DataFrame(data=lFlr)"
   ]
  },
  {
   "cell_type": "code",
   "execution_count": null,
   "metadata": {},
   "outputs": [],
   "source": [
    "print(dfFlrTmp.shape)\n",
    "dfFlrTmp.head()"
   ]
  },
  {
   "cell_type": "code",
   "execution_count": null,
   "metadata": {},
   "outputs": [],
   "source": [
    "dfFlrTmp['id']=dfFlrTmp['id'].astype(str)\n",
    "dfFlr['id']=dfFlr['id'].astype(str)"
   ]
  },
  {
   "cell_type": "code",
   "execution_count": null,
   "metadata": {},
   "outputs": [],
   "source": [
    "dfFlr.shape"
   ]
  },
  {
   "cell_type": "code",
   "execution_count": null,
   "metadata": {},
   "outputs": [],
   "source": [
    "print(dfFlr.shape)\n",
    "dfFlr.head()"
   ]
  },
  {
   "cell_type": "code",
   "execution_count": null,
   "metadata": {},
   "outputs": [],
   "source": [
    "dfFlrTmpIdx=dfFlrTmp.set_index(['acct'])\n",
    "dfFlrIdx=dfFlr.set_index(['acct'])"
   ]
  },
  {
   "cell_type": "code",
   "execution_count": null,
   "metadata": {},
   "outputs": [],
   "source": [
    "dfFlrSame=dfFlrTmpIdx.join(dfFlrIdx,how='inner',rsuffix=\"Prv\")"
   ]
  },
  {
   "cell_type": "code",
   "execution_count": null,
   "metadata": {},
   "outputs": [],
   "source": [
    "print(dfFlrSame.shape)\n",
    "dfFlrSame.head()"
   ]
  },
  {
   "cell_type": "code",
   "execution_count": null,
   "metadata": {},
   "outputs": [],
   "source": [
    "def calcDeltaTime(x):\n",
    "    # calculate delta time status\n",
    "    iPrv=x['iStatusPrv']\n",
    "    iNxt=x['iStatus']\n",
    "    iDelta=iNxt-iPrv\n",
    "    x['iStatusDt']=iDelta\n",
    "    # calculate delta time follower\n",
    "    iPrv=x['iFollowerPrv']\n",
    "    iNxt=x['iFollower']\n",
    "    iDelta=iNxt-iPrv\n",
    "    x['iFollowerDt']=iDelta\n",
    "    # calculate delta time follows\n",
    "    iPrv=x['iFollowsPrv']\n",
    "    iNxt=x['iFollows']\n",
    "    iDelta=iNxt-iPrv\n",
    "    x['iFollowsDt']=iDelta\n",
    "    return x"
   ]
  },
  {
   "cell_type": "code",
   "execution_count": null,
   "metadata": {},
   "outputs": [],
   "source": [
    "dfFlrSame=dfFlrSame.apply(calcDeltaTime,axis=1)"
   ]
  },
  {
   "cell_type": "code",
   "execution_count": null,
   "metadata": {},
   "outputs": [],
   "source": [
    "dfFlrSame.head()"
   ]
  },
  {
   "cell_type": "code",
   "execution_count": null,
   "metadata": {},
   "outputs": [],
   "source": [
    "dfFlrSame=dfFlrSame.drop(['idPrv','usernamePrv'],axis=1)"
   ]
  },
  {
   "cell_type": "code",
   "execution_count": null,
   "metadata": {},
   "outputs": [],
   "source": [
    "dfFlrNew=dfFlrTmpIdx[~dfFlrTmpIdx.isin(dfFlrSame).all(1)]\n",
    "print(dfFlrNew.shape)\n",
    "dfFlrNew.head()"
   ]
  },
  {
   "cell_type": "code",
   "execution_count": null,
   "metadata": {},
   "outputs": [],
   "source": [
    "dfFlrDel=dfFlrIdx[~dfFlrIdx.isin(dfFlrTmpIdx).all(1)]\n",
    "print(dfFlrDel.shape)\n",
    "dfFlrDel.head()"
   ]
  },
  {
   "cell_type": "code",
   "execution_count": null,
   "metadata": {},
   "outputs": [],
   "source": [
    "print(dfFlrIdx.shape)\n",
    "print(dfFlrTmpIdx.shape)"
   ]
  },
  {
   "cell_type": "code",
   "execution_count": null,
   "metadata": {},
   "outputs": [],
   "source": [
    "dfFlrIdx.head()"
   ]
  },
  {
   "cell_type": "code",
   "execution_count": null,
   "metadata": {},
   "outputs": [],
   "source": [
    "dfFlrTmpIdx.head()"
   ]
  },
  {
   "cell_type": "markdown",
   "metadata": {},
   "source": [
    "calc total followers"
   ]
  },
  {
   "cell_type": "code",
   "execution_count": null,
   "metadata": {},
   "outputs": [],
   "source": [
    "dfFlrAll=pandas.concat([dfFlrTmp,dfFlr,],ignore_index=True,join='outer',keys=['acct'])\n",
    "print(dfFlrAll.shape)"
   ]
  },
  {
   "cell_type": "code",
   "execution_count": null,
   "metadata": {},
   "outputs": [],
   "source": [
    "dfFlrAll['id']=dfFlrAll['id'].astype(str)"
   ]
  },
  {
   "cell_type": "code",
   "execution_count": null,
   "metadata": {},
   "outputs": [],
   "source": [
    "dfFlrAll.sort_values(['acct'],inplace=True)"
   ]
  },
  {
   "cell_type": "code",
   "execution_count": null,
   "metadata": {},
   "outputs": [],
   "source": [
    "dfFlrAll.head()"
   ]
  },
  {
   "cell_type": "markdown",
   "metadata": {},
   "source": [
    "output helpers"
   ]
  },
  {
   "cell_type": "code",
   "execution_count": null,
   "metadata": {},
   "outputs": [],
   "source": [
    "def applyFmt(oExcelWr,sSht,lCol):\n",
    "    oBok=oExcelWr.book\n",
    "    oSht=oExcelWr.sheets[sSht]\n",
    "    oFmt=oBok.add_format({\n",
    "                        'text_wrap':False,\n",
    "                        'align':'left',\n",
    "                        'valign':'top',\n",
    "                        })\n",
    "    for sAdr,iWidth in lCol:\n",
    "        oSht.set_column(sAdr,iWidth,oFmt)"
   ]
  },
  {
   "cell_type": "markdown",
   "metadata": {},
   "source": [
    "sort data for output"
   ]
  },
  {
   "cell_type": "code",
   "execution_count": null,
   "metadata": {},
   "outputs": [],
   "source": [
    "dfMtr.sort_values(['zStamp'],ascending=False,inplace=True)"
   ]
  },
  {
   "cell_type": "markdown",
   "metadata": {},
   "source": [
    "write following information"
   ]
  },
  {
   "cell_type": "code",
   "execution_count": null,
   "metadata": {},
   "outputs": [],
   "source": [
    "sShtFlrCur=\"flr.cur\"\n",
    "sShtFlrSame=\"flr.same\"\n",
    "sShtFlrDel=\"flr.lost\"\n",
    "sShtFlrNew=\"flr.gained\""
   ]
  },
  {
   "cell_type": "code",
   "execution_count": null,
   "metadata": {},
   "outputs": [],
   "source": [
    "dfFlrNew=dfFlrNew.reset_index()\n",
    "dfFlrNew=dfFlrNew.reindex(columns=lColFlr)\n",
    "dfFlrDel=dfFlrDel.reset_index()\n",
    "dfFlrDel=dfFlrDel.reindex(columns=lColFlr)\n",
    "dfFlrSame=dfFlrSame.reset_index()\n",
    "dfFlrSame=dfFlrSame.reindex(columns=lColFlrSame)\n"
   ]
  },
  {
   "cell_type": "code",
   "execution_count": null,
   "metadata": {},
   "outputs": [],
   "source": [
    "dfFlrNew['id']=dfFlrNew['id'].astype(str)\n",
    "dfFlrDel['id']=dfFlrDel['id'].astype(str)\n",
    "dfFlrTmp['id']=dfFlrTmp['id'].astype(str)"
   ]
  },
  {
   "cell_type": "code",
   "execution_count": null,
   "metadata": {},
   "outputs": [],
   "source": [
    "sNow=zNow.strftime('%Y%m%d_%H%M')\n",
    "sOutNowFN=\"me.%s.xlsx\"%(sNow)"
   ]
  },
  {
   "cell_type": "code",
   "execution_count": null,
   "metadata": {},
   "outputs": [],
   "source": [
    "#sOutToDayFN=\"me.tmp.xlsx\"\n",
    "with pandas.ExcelWriter(sOutFN,mode='w') as oXlsWr:\n",
    "    dfMtr.to_excel(oXlsWr,sheet_name=sShtMtr,index=False)\n",
    "    applyFmt(oXlsWr,sShtMtr,lColMtrFmt)\n",
    "\n",
    "    dfFlrAll.to_excel(oXlsWr,sheet_name=sShtFlr,index=False)\n",
    "    applyFmt(oXlsWr,sShtFlr,lColFlrFmt)\n",
    "\n",
    "with pandas.ExcelWriter(sOutNowFN,mode='w') as oXlsWr:\n",
    "\n",
    "    dfFlrTmp.to_excel(oXlsWr,sheet_name=sShtFlrCur,index=False)\n",
    "    applyFmt(oXlsWr,sShtFlrCur,lColFlrFmt)\n",
    "\n",
    "    dfFlrSame.to_excel(oXlsWr,sheet_name=sShtFlrSame,index=False)\n",
    "    applyFmt(oXlsWr,sShtFlrSame,lColFlrSameFmt)\n",
    "\n",
    "    dfFlrDel.to_excel(oXlsWr,sheet_name=sShtFlrDel,index=False)\n",
    "    applyFmt(oXlsWr,sShtFlrDel,lColFlrFmt)\n",
    "\n",
    "    dfFlrNew.to_excel(oXlsWr,sheet_name=sShtFlrNew,index=False)\n",
    "    applyFmt(oXlsWr,sShtFlrNew,lColFlrFmt)\n"
   ]
  }
 ],
 "metadata": {
  "kernelspec": {
   "display_name": "Python 3.10.7 64-bit",
   "language": "python",
   "name": "python3"
  },
  "language_info": {
   "codemirror_mode": {
    "name": "ipython",
    "version": 3
   },
   "file_extension": ".py",
   "mimetype": "text/x-python",
   "name": "python",
   "nbconvert_exporter": "python",
   "pygments_lexer": "ipython3",
   "version": "3.11.0"
  },
  "orig_nbformat": 4,
  "vscode": {
   "interpreter": {
    "hash": "e7370f93d1d0cde622a1f8e1c04877d8463912d04d973331ad4851f04de6915a"
   }
  }
 },
 "nbformat": 4,
 "nbformat_minor": 2
}
